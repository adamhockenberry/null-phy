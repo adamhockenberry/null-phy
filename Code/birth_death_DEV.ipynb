{
 "cells": [
  {
   "cell_type": "code",
   "execution_count": 1,
   "metadata": {
    "collapsed": false
   },
   "outputs": [],
   "source": [
    "%matplotlib inline"
   ]
  },
  {
   "cell_type": "code",
   "execution_count": 839,
   "metadata": {
    "collapsed": false
   },
   "outputs": [],
   "source": [
    "import ete3\n",
    "import numpy as np\n",
    "import random\n",
    "from Bio import Phylo\n",
    "from io import StringIO\n",
    "\n",
    "from matplotlib import pyplot as plt"
   ]
  },
  {
   "cell_type": "code",
   "execution_count": 55,
   "metadata": {
    "collapsed": true
   },
   "outputs": [],
   "source": []
  },
  {
   "cell_type": "markdown",
   "metadata": {},
   "source": [
    "# For extant species only\n",
    "\n",
    "This is a modification of the point process representation developed by Tanja Stadler that breaks tree construction into two seperate steps:\n",
    "\n",
    "1. Get the basic *topology* from random branching\n",
    "2. *Modify* that topology with the correct branching time (i.i.d.) distributions"
   ]
  },
  {
   "cell_type": "code",
   "execution_count": 1669,
   "metadata": {
    "collapsed": false
   },
   "outputs": [],
   "source": [
    "def random_insert(listy, item):\n",
    "    '''\n",
    "    I preliminarily tested 2 options for inserting and randomizing new items:\n",
    "    \n",
    "    1.\n",
    "    listy = list(range(1000))\n",
    "    random_insert(listy, 'a')\n",
    "    random_insert(listy, 'b')\n",
    "    \n",
    "    2.\n",
    "    listy = list(range(1000))\n",
    "    listy.extend(['a', 'b'])\n",
    "    random.shuffle(listy)\n",
    "    \n",
    "    Obviously the former doesn't randomize the whole list but I found the implementation using random_insert \n",
    "    to be absurdly quicker. As long as the list is grown from an initially randomly shuffled I think that\n",
    "    this would produce a fully random output. So this function is currently used below.\n",
    "    \n",
    "    '''\n",
    "    listy.insert(random.randrange(len(listy)+1), item)\n",
    "\n",
    "def get_bd_topology(n_extant_taxa):\n",
    "    '''\n",
    "    Docs\n",
    "    \n",
    "    Restrictions beta>=mu\n",
    "    \n",
    "    \n",
    "    \n",
    "    Algorithm notes:\n",
    "    1. Code is definitely worse than O(n). But don't think that it's quadratic.\n",
    "    2. Should perhaps test random insertion of the two new children to avoid the \n",
    "        re-shuffling step... but are two random insertions worse than one random re-shuffling?\n",
    "    '''\n",
    "    my_tree = ete3.Tree() # Instantiate an empty tree\n",
    "    #Add two leaves to start the first bifurcation\n",
    "    A = my_tree.add_child(name=\"\", dist=0.) \n",
    "    B = my_tree.add_child(name=\"\", dist=0.) \n",
    "    #And put those leaves in a list of who to draw from\n",
    "    all_leaves = [A, B]\n",
    "    random.shuffle(all_leaves)\n",
    "    for i in range(n_extant_taxa-2):\n",
    "        #Choose a random leaf, add two children to it\n",
    "        choice = all_leaves[-1]\n",
    "        new_A = choice.add_child(name=\"\", dist=0.)\n",
    "        new_B = choice.add_child(name=\"\", dist=0.)\n",
    "        #Remove the leaf and randomly add its children to our running list of extant\n",
    "        all_leaves = all_leaves[:-1]\n",
    "        random_insert(all_leaves, new_A)\n",
    "        random_insert(all_leaves, new_B)\n",
    "        \n",
    "    return my_tree\n",
    "\n",
    "def apply_branch_times_birth_death(my_tree, beta, mu=0.):\n",
    "    '''\n",
    "    Docs\n",
    "    \n",
    "    As of now the scales don't exactly line up with my expectation from the tedious BD process\n",
    "    simulation.\n",
    "    \n",
    "    Algorithm notes:\n",
    "    1. Code has the same reshuffle problem as function above which might be able to be written faster\n",
    "    \n",
    "    To do:\n",
    "    1. assert correct inputs\n",
    "    '''\n",
    "    n_taxa = len(my_tree.get_leaves())\n",
    "    input_n = np.random.uniform(size=n_taxa-1)\n",
    "#     input_n = np.random.uniform(size=n_taxa)\n",
    "\n",
    "    #Equation modified/directly from Stadler\n",
    "    # NOTE: I DO HAVE SOME UNCERTAINTY HERE ABOUT WHETHER input_n[0] IS CORRECT\n",
    "    #       IT IS CURRENTLY JUST ONE OF THE RANDOM UNIFORM NUMBERS WHICH SEEMS WEIRD\n",
    "    numerator = 1-((mu/beta)*(input_n[0]**(1./n_taxa)))\n",
    "    denominator = 1-(input_n[0]**(1./n_taxa))\n",
    "    tree_age = (1./(beta-mu))*np.log(numerator/denominator)\n",
    "    \n",
    "    #Equation modified/directly from Stadler\n",
    "    numerator = beta-(mu*np.exp(-1*(beta-mu)*tree_age))-(mu*(1-np.exp(-1*(beta-mu)*tree_age))*input_n)\n",
    "    denominator = beta-(mu*np.exp(-1*(beta-mu)*tree_age))-(beta*(1-np.exp(-1*(beta-mu)*tree_age))*input_n)\n",
    "    branch_times = (1./(beta-mu))*np.log(numerator/denominator)\n",
    "    branch_times = sorted(branch_times,reverse=True)\n",
    "#     print(branch_times)\n",
    "    first = branch_times[0]\n",
    "    last = branch_times[-1]\n",
    "    branch_times = first - branch_times\n",
    "#     print(branch_times)\n",
    "    branch_times = branch_times + last\n",
    "#     print(branch_times)\n",
    "    all_leaves_set = set(my_tree.get_leaves())\n",
    "    \n",
    "    #This set subtraction is so that I only assign internal nodes branch times\n",
    "    #and the options are initially set to the first two nodes coming from the root\n",
    "    #Would be nice if there was a faster way to get only internal node children via ete3\n",
    "    options = list(set(my_tree.get_children())-all_leaves_set)\n",
    "    random.shuffle(options)\n",
    "#     my_tree.dist = branch_times[0]\n",
    "    my_tree.dist = 0.\n",
    "    for btime in branch_times[:-1]:\n",
    "        choice = options[-1]\n",
    "        choice.dist = btime - choice.get_distance(my_tree)-my_tree.dist\n",
    "        options = options[:-1]\n",
    "        #Again make sure I'm only adding internal nodes to the options\n",
    "        for child in list(set(choice.get_children())-all_leaves_set):\n",
    "            random_insert(options, child)\n",
    "            \n",
    "    btime = branch_times[-1]\n",
    "    #Now make the tree ultra-metric by extending the leaves accordingly\n",
    "    for leaf in my_tree.get_leaves():\n",
    "        leaf.dist = btime - leaf.get_distance(my_tree) - my_tree.dist\n",
    "    return my_tree"
   ]
  },
  {
   "cell_type": "code",
   "execution_count": 1670,
   "metadata": {
    "collapsed": false
   },
   "outputs": [
    {
     "data": {
      "image/png": "[encoded data removed]",
      "text/plain": [
       "<matplotlib.figure.Figure at 0x12d9b8860>"
      ]
     },
     "metadata": {},
     "output_type": "display_data"
    }
   ],
   "source": [
    "n_taxa = 10\n",
    "my_tree = get_bd_topology(n_taxa)\n",
    "# Phylo.draw(Phylo.read(StringIO(my_tree.write('newick')), 'newick'))\n",
    "my_tree = apply_branch_times_birth_death(my_tree, 1.0, mu=0.)\n",
    "\n",
    "Phylo.draw(Phylo.read(StringIO(my_tree.write('newick')), 'newick'))"
   ]
  },
  {
   "cell_type": "code",
   "execution_count": 1646,
   "metadata": {
    "collapsed": false
   },
   "outputs": [
    {
     "name": "stdout",
     "output_type": "stream",
     "text": [
      "1.0 -2.067289900034543\n",
      "[0.8182604376171199, 0.6684707715073044, 0.4345941110024696, 0.4345941110024696, 0.007550595130581872, 0.007550595130581872, 0.028527063197782088, 0.361580236734808, 2.384855349527612, 2.384855349527612]\n",
      "[0.29583951974649847, 1.4035814892964142, 1.7366346628334401, -0.6196936234963897, 1.0966909545239178, 0.9469012884141024, 1.7576111309006404, 1.3305676150287526]\n"
     ]
    }
   ],
   "source": [
    "print(my_tree.dist, gamma_stat(my_tree))\n",
    "\n",
    "print([i.dist for i in my_tree.get_leaves()])\n",
    "print([i.get_distance(my_tree) for i in set(my_tree.get_descendants())-set(my_tree.get_leaves())])"
   ]
  },
  {
   "cell_type": "markdown",
   "metadata": {},
   "source": [
    "**Testing internal branch length distributions against an exponential**"
   ]
  },
  {
   "cell_type": "code",
   "execution_count": 963,
   "metadata": {
    "collapsed": false
   },
   "outputs": [
    {
     "data": {
      "text/plain": [
       "(array([8., 3., 1., 2., 2., 0., 1., 1., 1., 1.]),\n",
       " array([0.19875382, 0.50148408, 0.80421435, 1.10694461, 1.40967487,\n",
       "        1.71240514, 2.0151354 , 2.31786567, 2.62059593, 2.92332619,\n",
       "        3.22605646]),\n",
       " <a list of 10 Patch objects>)"
      ]
     },
     "execution_count": 963,
     "metadata": {},
     "output_type": "execute_result"
    },
    {
     "data": {
      "image/png": "[encoded data removed]",
      "text/plain": [
       "<matplotlib.figure.Figure at 0x12d045860>"
      ]
     },
     "metadata": {},
     "output_type": "display_data"
    }
   ],
   "source": [
    "internals = list(set(my_tree.get_descendants())-set(my_tree.get_leaves()))\n",
    "wtimes = [i.dist for i in internals]\n",
    "fig, ax = plt.subplots()\n",
    "ax.hist(wtimes)\n",
    "ax.hist(np.random.exponential(scale=1.0, size=20), alpha=0.5)"
   ]
  },
  {
   "cell_type": "code",
   "execution_count": 582,
   "metadata": {
    "collapsed": false
   },
   "outputs": [],
   "source": []
  },
  {
   "cell_type": "markdown",
   "metadata": {},
   "source": [
    "# Birth only model with a traditional method"
   ]
  },
  {
   "cell_type": "code",
   "execution_count": 1354,
   "metadata": {
    "collapsed": true
   },
   "outputs": [],
   "source": [
    "def birth_only_tree(birth_rate, target_size=10, max_time=None):\n",
    "    \"\"\"\n",
    "    Original implementaiton from: https://mrnoutahi.com/2017/12/05/How-to-simulate-a-tree/\n",
    "    \"\"\"\n",
    "    done = False\n",
    "    total_time = 0\n",
    "\n",
    "    #Initialize\n",
    "    tree = ete3.Tree()\n",
    "    tree.dist = 0.0\n",
    "    #Ensure that a stopping condition is provided\n",
    "    if not (target_size or max_time):\n",
    "        raise ValueError('A stopping criterion is required')\n",
    "\n",
    "    while True:\n",
    "        #Get the list of extant species\n",
    "        leaf_nodes = tree.get_leaves()\n",
    "        #Get desired wait time (exponentially distributed)\n",
    "        wait_time = np.random.exponential(1/(len(leaf_nodes) * birth_rate))\n",
    "#         wait_time = np.random.exponential(len(leaf_nodes) * birth_rate)\n",
    "#         wait_time = random.expovariate(len(leaf_nodes) * birth_rate)\n",
    "        #Check stopping criteria\n",
    "        if len(leaf_nodes) >= target_size or (max_time and total_time + wait_time >= max_time):\n",
    "            done = True\n",
    "        #Update the length of all current leaves\n",
    "        max_limited_time = min(wait_time, (max_time or total_time + wait_time) - total_time)\n",
    "        for leaf in leaf_nodes:\n",
    "            leaf.dist += max_limited_time\n",
    "        #Stop there if that was all we needed\n",
    "        if done:\n",
    "            break\n",
    "        #Else, update time\n",
    "        total_time += max_limited_time\n",
    "        #Add a new node to a randomly chosen leaf.\n",
    "        node = np.random.choice(leaf_nodes)\n",
    "        c1 = ete3.Tree()\n",
    "        c2 = ete3.Tree()\n",
    "        node.add_child(c1)\n",
    "        node.add_child(c2)\n",
    "        c1.dist = 0.0\n",
    "        c2.dist = 0.0\n",
    "\n",
    "    return tree"
   ]
  },
  {
   "cell_type": "markdown",
   "metadata": {
    "collapsed": true
   },
   "source": [
    "**Test implementation**"
   ]
  },
  {
   "cell_type": "code",
   "execution_count": 1334,
   "metadata": {
    "collapsed": false
   },
   "outputs": [
    {
     "name": "stdout",
     "output_type": "stream",
     "text": [
      "-0.7823471824530401\n"
     ]
    },
    {
     "data": {
      "image/png": "[encoded data removed]",
      "text/plain": [
       "<matplotlib.figure.Figure at 0x12d36f518>"
      ]
     },
     "metadata": {},
     "output_type": "display_data"
    }
   ],
   "source": [
    "bo_tree = birth_only_tree(1., 20)\n",
    "print(gamma_stat(bo_tree))\n",
    "# tree.render('%%inline', w=500)\n",
    "Phylo.draw(Phylo.read(StringIO(bo_tree.write('newick')), 'newick'))"
   ]
  },
  {
   "cell_type": "markdown",
   "metadata": {},
   "source": []
  },
  {
   "cell_type": "markdown",
   "metadata": {},
   "source": [
    "**Birth death**"
   ]
  },
  {
   "cell_type": "code",
   "execution_count": 1346,
   "metadata": {
    "collapsed": true
   },
   "outputs": [],
   "source": [
    "def delete_single_child_internal(t):\n",
    "    \"\"\"Utility function that removes internal nodes\n",
    "    with a single child from tree\"\"\"\n",
    "\n",
    "    for node in t.traverse(\"postorder\"):\n",
    "        if(not node.is_leaf() and len(node.get_children()) < 2):\n",
    "            node.delete()\n",
    "\n",
    "    if len(t.get_children()) == 1:\n",
    "        t = t.children[0]\n",
    "        t.up = None\n",
    "\n",
    "def birth_death_tree(birth, death, nsize=10, max_time=None, remlosses=True, r=True):\n",
    "    \"\"\"\n",
    "    Generates a birth-death tree.\n",
    "    Arguments:\n",
    "        - ``birth`` : birth rate\n",
    "        - ``death`` : death rate\n",
    "        - ``nsize`` : desired number of leaves\n",
    "        - ``max_time`` : maximum time of evolution\n",
    "        - ``remlosses`` : whether lost leaves (extinct taxa) should be pruned from tree\n",
    "        - ``r`` : repeat until success\n",
    "        \n",
    "    Original implementaiton from: https://mrnoutahi.com/2017/12/05/How-to-simulate-a-tree/\n",
    "    with modifications (perhaps)\n",
    "\n",
    "    \"\"\"\n",
    "    # initialize tree with root node\n",
    "    tree = ete3.Tree()\n",
    "    tree.add_features(extinct=False)\n",
    "    tree.dist = 0.0\n",
    "    done = False\n",
    "\n",
    "    # get current list of leaves\n",
    "    leaf_nodes = tree.get_leaves()\n",
    "    curr_num_leaves = len(leaf_nodes)\n",
    "\n",
    "    total_time = 0\n",
    "    died = set([])\n",
    "\n",
    "    # total event rate to compute waiting time\n",
    "    event_rate = float(birth + death)\n",
    "\n",
    "    while True:\n",
    "        # waiting time based on event_rate\n",
    "        wtime = random.expovariate(event_rate)\n",
    "        total_time += wtime\n",
    "        for leaf in leaf_nodes:\n",
    "            # extinct leaves cannot update their branches length\n",
    "            if not leaf.extinct:\n",
    "                leaf.dist += wtime\n",
    "\n",
    "        if curr_num_leaves >= nsize:\n",
    "            done = True\n",
    "\n",
    "        if done:\n",
    "            break\n",
    "\n",
    "        # if event occurs within time constraints\n",
    "        if max_time is None or total_time <= max_time:\n",
    "\n",
    "            # select node at random, then find chance it died or give birth\n",
    "            # (speciation)\n",
    "            node = random.choice(leaf_nodes)\n",
    "            eprob = random.random()\n",
    "            leaf_nodes.remove(node)\n",
    "            curr_num_leaves -= 1\n",
    "\n",
    "            # birth event (speciation)\n",
    "            if eprob < birth / event_rate:\n",
    "                child1 = ete3.Tree()\n",
    "                child1.dist = 0\n",
    "                child1.add_features(extinct=False)\n",
    "                child2 = ete3.Tree()\n",
    "                child2.dist = 0\n",
    "                child2.add_features(extinct=False)\n",
    "                node.add_child(child1)\n",
    "                node.add_child(child2)\n",
    "                leaf_nodes.append(child1)\n",
    "                leaf_nodes.append(child2)\n",
    "                # update add two new leave\n",
    "                # (remember that parent was removed)\n",
    "                curr_num_leaves += 2\n",
    "\n",
    "            else:\n",
    "                # death of the chosen node\n",
    "                if curr_num_leaves > 0:\n",
    "                    node.extinct = True\n",
    "                    died.add(node)\n",
    "                else:\n",
    "                    if not r:\n",
    "                        raise ValueError(\n",
    "                            \"All lineage went extinct, please retry\")\n",
    "                    # Restart the simulation because the tree has gone\n",
    "                    # extinct\n",
    "                    tree = ete3.Tree()\n",
    "                    leaf_nodes = tree.get_leaves()\n",
    "                    tree.add_features(extinct=False)\n",
    "                    tree.dist = 0.0\n",
    "                    curr_num_leaves = 1\n",
    "                    died = set([])\n",
    "                    total_time = 0\n",
    "\n",
    "            # this should always hold true\n",
    "            assert curr_num_leaves == len(leaf_nodes)\n",
    "\n",
    "    if remlosses:\n",
    "        # prune lost leaves from tree\n",
    "        leaves = set(tree.get_leaves()) - died\n",
    "        tree.prune(leaves)\n",
    "        # remove all non binary nodes\n",
    "        delete_single_child_internal(tree)\n",
    "\n",
    "    leaf_nodes = tree.get_leaves()\n",
    "    leaf_compteur = 1\n",
    "    for ind, node in enumerate(leaf_nodes):\n",
    "        # label only extant leaves\n",
    "        if not node.extinct:\n",
    "            # node.dist += wtime\n",
    "            node.name = \"T%d\" % leaf_compteur\n",
    "            leaf_compteur += 1\n",
    "    return tree"
   ]
  },
  {
   "cell_type": "code",
   "execution_count": null,
   "metadata": {
    "collapsed": true
   },
   "outputs": [],
   "source": []
  },
  {
   "cell_type": "code",
   "execution_count": 1673,
   "metadata": {
    "collapsed": false
   },
   "outputs": [],
   "source": [
    "listy = []\n",
    "n_taxa = 20\n",
    "birth_rate = 1.0\n",
    "for i in range(1000):\n",
    "    my_tree = get_bd_topology(n_taxa)\n",
    "    my_tree = apply_branch_times_birth_death(my_tree, birth_rate, mu=0.)\n",
    "    listy.append(gamma_stat(my_tree))"
   ]
  },
  {
   "cell_type": "code",
   "execution_count": 1674,
   "metadata": {
    "collapsed": false
   },
   "outputs": [
    {
     "name": "stdout",
     "output_type": "stream",
     "text": [
      "0.09562165096456703 0.9681791136616057\n"
     ]
    },
    {
     "data": {
      "image/png": "[encoded data removed]",
      "text/plain": [
       "<matplotlib.figure.Figure at 0x12f279048>"
      ]
     },
     "metadata": {},
     "output_type": "display_data"
    }
   ],
   "source": [
    "fig, ax = plt.subplots()\n",
    "ax.hist(listy)\n",
    "print(np.mean(listy), np.std(listy))"
   ]
  },
  {
   "cell_type": "code",
   "execution_count": 1355,
   "metadata": {
    "collapsed": false
   },
   "outputs": [
    {
     "name": "stdout",
     "output_type": "stream",
     "text": [
      "0.7509913152203984\n",
      "-1.1397959393652712\n",
      "-0.39416520993429033\n",
      "-0.21723674069142346\n",
      "0.34785785431257\n",
      "0.42313163994050845\n",
      "-0.5955462527150458\n",
      "-0.4658128578530758\n",
      "-0.18503282153848571\n",
      "0.23808358671914204\n",
      "1.0006737109288002\n",
      "-0.8911299220897364\n",
      "-1.1382418413309154\n",
      "0.24377247375180291\n",
      "1.2459967562486578\n",
      "-1.207333034333642\n",
      "-1.262040487718542\n",
      "1.1067839567252695\n",
      "-0.3461864759969165\n",
      "0.47061508394173246\n"
     ]
    }
   ],
   "source": [
    "n_taxa = 20\n",
    "birth_rate = 1.0\n",
    "for i in range(20):\n",
    "    bo_tree = birth_only_tree(birth_rate, n_taxa)\n",
    "#     bo_tree = birth_death_tree(birth_rate, 0., n_taxa)\n",
    "    print(gamma_stat(bo_tree))"
   ]
  },
  {
   "cell_type": "code",
   "execution_count": 1304,
   "metadata": {
    "collapsed": true
   },
   "outputs": [],
   "source": [
    "from dendropy.simulate import treesim"
   ]
  },
  {
   "cell_type": "code",
   "execution_count": 1320,
   "metadata": {
    "collapsed": false
   },
   "outputs": [
    {
     "data": {
      "text/plain": [
       "'[&R] ((((T16:0,T3:0):1.7601304371726658,((((T15:0.028146491229868658,T14:0.028146491229868658):0.4190164194673384,T19:0.4471629106972071):0.6835187241402114,T9:1.1306816348374187):0.5247955385004212,T18:1.6554771733378395):0.10465326383482626):0.3018943804453771,((((T13:0.18339601614898443,(T20:0.14998865101637432,T2:0.14998865101637432):0.033407365132610126):0.0264397977583447,T10:0.20983581390732914):0.41957193390156544,(T12:0.005906213616251907,T7:0.005906213616251907):0.6235015341926426):0.31719847675024404,(T5:0.7721521728930357,(T8:0.4016365409074073,T4:0.4016365409074073):0.37051563198562854):0.17445405166610284):1.1154185930589042):0.1909527767315043,(((T17:0.05221913521447388,T1:0.05221913521447388):0.5576158836678834,T11:0.6098350188823572):0.705368029943953,T6:1.3152030488263105):0.9377745455232369):0.5208370337482322;\\n'"
      ]
     },
     "execution_count": 1320,
     "metadata": {},
     "output_type": "execute_result"
    }
   ],
   "source": [
    "t = treesim.birth_death_tree(birth_rate=1.0, death_rate=0., num_extant_tips=20)\n",
    "t.as_string('newick')"
   ]
  },
  {
   "cell_type": "code",
   "execution_count": 1321,
   "metadata": {
    "collapsed": false
   },
   "outputs": [],
   "source": [
    "ete3_tree = ete3.Tree(\"((((T16:0,T3:0):1.7601304371726658,((((T15:0.028146491229868658,T14:0.028146491229868658):0.4190164194673384,T19:0.4471629106972071):0.6835187241402114,T9:1.1306816348374187):0.5247955385004212,T18:1.6554771733378395):0.10465326383482626):0.3018943804453771,((((T13:0.18339601614898443,(T20:0.14998865101637432,T2:0.14998865101637432):0.033407365132610126):0.0264397977583447,T10:0.20983581390732914):0.41957193390156544,(T12:0.005906213616251907,T7:0.005906213616251907):0.6235015341926426):0.31719847675024404,(T5:0.7721521728930357,(T8:0.4016365409074073,T4:0.4016365409074073):0.37051563198562854):0.17445405166610284):1.1154185930589042):0.1909527767315043,(((T17:0.05221913521447388,T1:0.05221913521447388):0.5576158836678834,T11:0.6098350188823572):0.705368029943953,T6:1.3152030488263105):0.9377745455232369):0.5208370337482322;\")"
   ]
  },
  {
   "cell_type": "code",
   "execution_count": 1322,
   "metadata": {
    "collapsed": false
   },
   "outputs": [
    {
     "data": {
      "text/plain": [
       "0.9119690421839473"
      ]
     },
     "execution_count": 1322,
     "metadata": {},
     "output_type": "execute_result"
    }
   ],
   "source": [
    "gamma_stat(ete3_tree)"
   ]
  },
  {
   "cell_type": "code",
   "execution_count": 1324,
   "metadata": {
    "collapsed": false
   },
   "outputs": [
    {
     "data": {
      "text/plain": [
       "0.5208370337482322"
      ]
     },
     "execution_count": 1324,
     "metadata": {},
     "output_type": "execute_result"
    }
   ],
   "source": [
    "ete3_tree.dist"
   ]
  },
  {
   "cell_type": "code",
   "execution_count": null,
   "metadata": {
    "collapsed": true
   },
   "outputs": [],
   "source": []
  },
  {
   "cell_type": "code",
   "execution_count": null,
   "metadata": {
    "collapsed": true
   },
   "outputs": [],
   "source": []
  },
  {
   "cell_type": "code",
   "execution_count": null,
   "metadata": {
    "collapsed": true
   },
   "outputs": [],
   "source": []
  },
  {
   "cell_type": "code",
   "execution_count": 1352,
   "metadata": {
    "collapsed": false
   },
   "outputs": [
    {
     "data": {
      "text/plain": [
       "0.6653715254243493"
      ]
     },
     "execution_count": 1352,
     "metadata": {},
     "output_type": "execute_result"
    }
   ],
   "source": [
    "random.expovariate(1.)"
   ]
  },
  {
   "cell_type": "code",
   "execution_count": 1353,
   "metadata": {
    "collapsed": false
   },
   "outputs": [
    {
     "data": {
      "text/plain": [
       "0.28933112365099733"
      ]
     },
     "execution_count": 1353,
     "metadata": {},
     "output_type": "execute_result"
    }
   ],
   "source": [
    "np.random.exponential(1.)"
   ]
  },
  {
   "cell_type": "code",
   "execution_count": 1621,
   "metadata": {
    "collapsed": true
   },
   "outputs": [],
   "source": [
    "def gamma_stat(tree):\n",
    "    \"\"\"\n",
    "    This was adapted from the APE implementation in R (see: https://rdrr.io/cran/ape/src/R/gammaStat.R)\n",
    "    \n",
    "    and tested to make sure it gives equivalent results\n",
    "    \"\"\"\n",
    "    internals = set(tree.get_descendants()) - set(tree.get_leaves())\n",
    "    n_leaves = len(tree.get_leaves())\n",
    "    tree_dist = tree.get_leaves()[0].get_distance(tree)+tree.dist\n",
    "    branching_times = [tree.dist]+[internal.get_distance(tree) for internal in internals]+[tree_dist]\n",
    "#     tree_dist = tree.get_leaves()[0].get_distance(tree)\n",
    "#     branching_times = [0]+[internal.get_distance(tree) for internal in internals]+[tree_dist]\n",
    "    branching_times = sorted(branching_times)\n",
    "    diffs = np.diff(branching_times)\n",
    "    tau = np.sum(np.arange(2, n_leaves+1)*diffs)\n",
    "    denom = tau * np.sqrt(1/(12 * (n_leaves - 2)))\n",
    "    m = tau/2.\n",
    "    stat = (1/(n_leaves-2)) * np.sum(diffs[:-1]*np.arange(2, len(diffs)+1)*np.arange(len(diffs)-1, 0, -1))\n",
    "    gamma_val = (stat-m)/denom\n",
    "\n",
    "    return gamma_val"
   ]
  },
  {
   "cell_type": "code",
   "execution_count": null,
   "metadata": {
    "collapsed": true
   },
   "outputs": [],
   "source": []
  },
  {
   "cell_type": "code",
   "execution_count": null,
   "metadata": {
    "collapsed": true
   },
   "outputs": [],
   "source": []
  },
  {
   "cell_type": "code",
   "execution_count": 1771,
   "metadata": {
    "collapsed": false
   },
   "outputs": [
    {
     "data": {
      "text/plain": [
       "1"
      ]
     },
     "execution_count": 1771,
     "metadata": {},
     "output_type": "execute_result"
    }
   ],
   "source": [
    "((2**2)-2)//2"
   ]
  },
  {
   "cell_type": "code",
   "execution_count": 1790,
   "metadata": {
    "collapsed": false
   },
   "outputs": [
    {
     "name": "stdout",
     "output_type": "stream",
     "text": [
      "[4210157426126929793, 1743130822668362889, 722086038540594854, 598568658655185702, 372345050726881389, 309008961460700622, 235219628752112004, 204336706928265621, 169903556429007946, 150590560688023232, 132429089344259709, 120215259701568218, 109257313409314926, 101071451838787048, 93964802760279000, 88327957101980850, 83487377443480550, 79527549633052677, 76159490852558376, 73374928266996684, 71038138954867133, 69123819323005200, 67563587823166531, 66334897047706189, 65402209700277926, 64751109615727062, 64364558146013683, 32118631579928116]\n"
     ]
    }
   ],
   "source": [
    "n=1000\n",
    "dicty = {}\n",
    "dicty[1] = 1\n",
    "dicty[2] = 1\n",
    "for tree in range(3, n+1):\n",
    "    if tree % 2 == 0:\n",
    "        range_val = tree//2+1\n",
    "    else:\n",
    "        range_val = tree//2+1\n",
    "    tots = []\n",
    "    for i in range(1, range_val):\n",
    "        j = tree-i\n",
    "        if i != j:\n",
    "            tots.append(dicty[i]*dicty[j])\n",
    "        else:\n",
    "            tots.append((((dicty[i]**2)-dicty[i])//2)+dicty[i])\n",
    "    if tree == 56:\n",
    "        print(tots)\n",
    "    dicty[tree] = sum(tots)"
   ]
  },
  {
   "cell_type": "code",
   "execution_count": 1796,
   "metadata": {
    "collapsed": false
   },
   "outputs": [
    {
     "data": {
      "text/plain": [
       "51501493576783437"
      ]
     },
     "execution_count": 1796,
     "metadata": {},
     "output_type": "execute_result"
    }
   ],
   "source": [
    "dicty[50]"
   ]
  },
  {
   "cell_type": "code",
   "execution_count": null,
   "metadata": {
    "collapsed": true
   },
   "outputs": [],
   "source": []
  }
 ],
 "metadata": {
  "kernelspec": {
   "display_name": "Python 3",
   "language": "python",
   "name": "python3"
  },
  "language_info": {
   "codemirror_mode": {
    "name": "ipython",
    "version": 3
   },
   "file_extension": ".py",
   "mimetype": "text/x-python",
   "name": "python",
   "nbconvert_exporter": "python",
   "pygments_lexer": "ipython3",
   "version": "3.4.5"
  },
  "toc": {
   "colors": {
    "hover_highlight": "#DAA520",
    "navigate_num": "#000000",
    "navigate_text": "#333333",
    "running_highlight": "#FF0000",
    "selected_highlight": "#FFD700",
    "sidebar_border": "#EEEEEE",
    "wrapper_background": "#FFFFFF"
   },
   "moveMenuLeft": true,
   "nav_menu": {
    "height": "12px",
    "width": "252px"
   },
   "navigate_menu": true,
   "number_sections": true,
   "sideBar": true,
   "threshold": 4,
   "toc_cell": false,
   "toc_section_display": "block",
   "toc_window_display": false,
   "widenNotebook": false
  }
 },
 "nbformat": 4,
 "nbformat_minor": 2
}
