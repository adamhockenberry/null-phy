{
 "cells": [
  {
   "cell_type": "code",
   "execution_count": 1,
   "metadata": {},
   "outputs": [],
   "source": [
    "%matplotlib inline"
   ]
  },
  {
   "cell_type": "code",
   "execution_count": 2,
   "metadata": {},
   "outputs": [],
   "source": [
    "import ete3\n",
    "import random\n",
    "\n",
    "import numpy as np\n",
    "\n",
    "from collections import Counter\n",
    "from scipy import stats\n",
    "\n",
    "import pandas as pd\n",
    "\n",
    "from Bio import Phylo\n",
    "from io import StringIO\n"
   ]
  },
  {
   "cell_type": "markdown",
   "metadata": {},
   "source": [
    "# 2 things to simulate that would be great"
   ]
  },
  {
   "cell_type": "code",
   "execution_count": null,
   "metadata": {},
   "outputs": [],
   "source": [
    "my_tree = ete3.Tree() # Creates an empty tree\n",
    "A = my_tree.add_child(name=\"A\", dist=1.0) \n",
    "B = A.add_sister(name=\"B\", dist=1.0) \n",
    "C = my_tree.add_child(name=\"C\", dist=1.0)"
   ]
  },
  {
   "cell_type": "code",
   "execution_count": null,
   "metadata": {},
   "outputs": [],
   "source": [
    "my_tree.render('%%inline')"
   ]
  },
  {
   "cell_type": "code",
   "execution_count": null,
   "metadata": {},
   "outputs": [],
   "source": [
    "for i in range(10):\n",
    "    all_leaves = my_tree.get_leaves()\n",
    "    choice = random.choice(all_leaves)\n",
    "    choice.add_child(name=\"A\", dist=1.0)\n",
    "    choice.add_child(name=\"B\", dist=1.0)"
   ]
  },
  {
   "cell_type": "code",
   "execution_count": null,
   "metadata": {},
   "outputs": [],
   "source": [
    "my_tree.get_leaves()"
   ]
  },
  {
   "cell_type": "code",
   "execution_count": null,
   "metadata": {},
   "outputs": [],
   "source": [
    "def create_pectinate(n=2):\n",
    "    tree = ete3.Tree() # Creates an empty tree\n",
    "    A = tree.add_child(name=\"\", dist=1.) # Adds a new child to the current tree root\n",
    "    B = tree.add_child(name=\"\", dist=1.)\n",
    "    top_node = A\n",
    "    for i in range(n-2):\n",
    "        temp_a = top_node.add_child(name=\"\", dist=1.)\n",
    "        temp_b = top_node.add_child(name=\"\", dist=1.)\n",
    "        top_node = temp_a\n",
    "    return tree "
   ]
  },
  {
   "cell_type": "code",
   "execution_count": null,
   "metadata": {},
   "outputs": [],
   "source": [
    "tree = create_pectinate(32)\n",
    "tree.render('%%inline')"
   ]
  },
  {
   "cell_type": "markdown",
   "metadata": {},
   "source": [
    "# Pruning trees"
   ]
  },
  {
   "cell_type": "code",
   "execution_count": null,
   "metadata": {},
   "outputs": [],
   "source": [
    "import string\n",
    "letters = string.ascii_lowercase"
   ]
  },
  {
   "cell_type": "code",
   "execution_count": null,
   "metadata": {},
   "outputs": [],
   "source": [
    "tree = ete3.Tree() # Creates an empty tree\n",
    "A = tree.add_child(name='a', dist=1.) # Adds a new child to the current tree root\n",
    "B = tree.add_child(name='', dist=1.)\n",
    "top_node = B\n",
    "for i in range(16-2):\n",
    "#     temp_a = top_node.add_child(dist=1.)\n",
    "#     temp_b = top_node.add_child(dist=1.)\n",
    "    temp_a = top_node.add_child(name=letters[i+1], dist=1.)\n",
    "    temp_b = top_node.add_child(name=letters[i+2], dist=1.)\n",
    "    top_node = temp_b\n",
    "print(len(tree.get_leaves()))\n",
    "#ancestor.add_features(nodetype=\"internal\")"
   ]
  },
  {
   "cell_type": "code",
   "execution_count": null,
   "metadata": {},
   "outputs": [],
   "source": [
    "tree.render('%%inline')"
   ]
  },
  {
   "cell_type": "code",
   "execution_count": null,
   "metadata": {},
   "outputs": [],
   "source": [
    "for node in tree.traverse():\n",
    "    if len(node.get_children()) == 2:\n",
    "        node.name = ''"
   ]
  },
  {
   "cell_type": "code",
   "execution_count": null,
   "metadata": {},
   "outputs": [],
   "source": [
    "I_val"
   ]
  },
  {
   "cell_type": "markdown",
   "metadata": {},
   "source": [
    "# All sweep\n",
    "\n",
    "This algorithm uses (will use) recursive concatenation of small trees to build up a set of all"
   ]
  },
  {
   "cell_type": "code",
   "execution_count": null,
   "metadata": {},
   "outputs": [],
   "source": []
  },
  {
   "cell_type": "code",
   "execution_count": null,
   "metadata": {},
   "outputs": [],
   "source": []
  },
  {
   "cell_type": "code",
   "execution_count": null,
   "metadata": {},
   "outputs": [],
   "source": [
    "%%timeit\n",
    "size = 1000\n",
    "split_dict = {}\n",
    "split_dict[1] = []\n",
    "l_array = np.array([i for i in range(1, (size//2)+1)])\n",
    "r_array = np.zeros((size//2))\n",
    "for smaller in range(2, size+1, 1):\n",
    "    r_array[:smaller-1] += 1\n",
    "    split_dict[smaller] = (l_array[:smaller//2], r_array[:smaller//2])\n",
    "#     split_dict[smaller] = list(zip(l_array[:smaller//2], r_array[:smaller//2]))"
   ]
  },
  {
   "cell_type": "code",
   "execution_count": null,
   "metadata": {},
   "outputs": [],
   "source": []
  },
  {
   "cell_type": "code",
   "execution_count": null,
   "metadata": {},
   "outputs": [],
   "source": []
  },
  {
   "cell_type": "code",
   "execution_count": null,
   "metadata": {},
   "outputs": [],
   "source": []
  },
  {
   "cell_type": "markdown",
   "metadata": {},
   "source": [
    "# Uniform sampler using the \"Dendrogram capacity\" method"
   ]
  },
  {
   "cell_type": "markdown",
   "metadata": {},
   "source": [
    "**First get dictionary of the number of possible trees for all values up to and including *n***"
   ]
  },
  {
   "cell_type": "code",
   "execution_count": null,
   "metadata": {},
   "outputs": [],
   "source": [
    "n=8\n",
    "n_trees_dict = {}\n",
    "n_trees_dict[1] = 1\n",
    "\n",
    "split_trees_dict = {}\n",
    "probability_dict = {}\n",
    "for tree in range(2, n+1):\n",
    "    range_val = tree//2+1\n",
    "    tots = []\n",
    "    split_pairs = []\n",
    "    for i in range(1, range_val):\n",
    "        j = tree-i\n",
    "        split_pairs.append((j,i))\n",
    "        if i != j:\n",
    "            tots.append(n_trees_dict[i]*n_trees_dict[j])\n",
    "        else:\n",
    "            tots.append((((n_trees_dict[i]**2)-n_trees_dict[i])//2)+n_trees_dict[i])\n",
    "    total_possible = sum(tots)\n",
    "    probability_dict[tree] = [i/total_possible for i in tots]\n",
    "    n_trees_dict[tree] = total_possible\n",
    "    split_trees_dict[tree] = split_pairs"
   ]
  },
  {
   "cell_type": "code",
   "execution_count": null,
   "metadata": {},
   "outputs": [],
   "source": [
    "n_trees_dict[4], split_trees_dict[4], probability_dict[4]"
   ]
  },
  {
   "cell_type": "code",
   "execution_count": null,
   "metadata": {},
   "outputs": [],
   "source": [
    "n_trees_dict[8], split_trees_dict[8], probability_dict[8]"
   ]
  },
  {
   "cell_type": "code",
   "execution_count": null,
   "metadata": {},
   "outputs": [],
   "source": [
    "i=4\n",
    "(((n_trees_dict[i]**2)-n_trees_dict[i])//2)+n_trees_dict[i]"
   ]
  },
  {
   "cell_type": "code",
   "execution_count": null,
   "metadata": {},
   "outputs": [],
   "source": [
    "split_trees_dict"
   ]
  },
  {
   "cell_type": "code",
   "execution_count": null,
   "metadata": {},
   "outputs": [],
   "source": [
    "probability_dict"
   ]
  },
  {
   "cell_type": "code",
   "execution_count": null,
   "metadata": {},
   "outputs": [],
   "source": [
    "# even_probability_dict = {}\n",
    "# for i in range(2, 20//2+1):\n",
    "#     options = split_trees_dict[i]\n",
    "#     print(i, options)\n",
    "#     prob_modifier = list(range(i-2, 0, -1))\n",
    "#     print(prob_modifier)\n",
    "even_probability_dict_l = {}\n",
    "even_probability_dict_r = {}\n",
    "\n",
    "for tree in range(2, n+1):\n",
    "    print('######', tree)\n",
    "    range_val = tree//2+1\n",
    "    tots = []\n",
    "    split_pairs = []\n",
    "    for i in range(1, range_val):\n",
    "        j = tree-i\n",
    "#         if i != j:\n",
    "#             continue\n",
    "        print(j,i)\n",
    "        split_pairs.append((j,i))\n",
    "        if i != j:\n",
    "            tots.append(n_trees_dict[i]*n_trees_dict[j])\n",
    "        else:\n",
    "            tots.append((((n_trees_dict[i]**2)-n_trees_dict[i])//2)+n_trees_dict[i])\n",
    "    print(split_pairs)\n",
    "    tots_l = tots*np.arange(len(split_pairs), 0, -1)\n",
    "    tots_r = tots*np.arange(1, len(split_pairs)+1, 1)\n",
    "    tots_l = list(tots_l)\n",
    "    tots_r = list(tots_r)\n",
    "    total_possible_l = sum(tots_l)\n",
    "    total_possible_r = sum(tots_r)\n",
    "    even_probability_dict_l[tree] = [i/total_possible_l for i in tots_l]\n",
    "    even_probability_dict_r[tree] = [i/total_possible_r for i in tots_r]\n",
    "\n",
    "#     split_trees_dict[tree] = split_pairs\n",
    "    \n",
    "    \n",
    "#     l_side = []\n",
    "#     all_to_all = split_trees_dict[]\n"
   ]
  },
  {
   "cell_type": "code",
   "execution_count": null,
   "metadata": {},
   "outputs": [],
   "source": [
    "even_probability_dict_l"
   ]
  },
  {
   "cell_type": "code",
   "execution_count": null,
   "metadata": {},
   "outputs": [],
   "source": [
    "even_probability_dict_r"
   ]
  },
  {
   "cell_type": "code",
   "execution_count": null,
   "metadata": {},
   "outputs": [],
   "source": [
    "8+7+6+5+4+3+2+1"
   ]
  },
  {
   "cell_type": "code",
   "execution_count": null,
   "metadata": {},
   "outputs": [],
   "source": [
    "def select_recursive(n, path, split_trees_dict, probability_dict, repeat_possibility=False):\n",
    "#     if even_split == True:\n",
    "        \n",
    "#     else:\n",
    "        \n",
    "    index = np.random.choice(len(split_trees_dict[n]), p=probability_dict[n])\n",
    "    choice = split_trees_dict[n][index]\n",
    "#     print(choice)\n",
    "    path.append(choice)\n",
    "\n",
    "    l_split = choice[0]\n",
    "    r_split = choice[1]\n",
    "    if l_split != 1:\n",
    "        if l_split == 2:\n",
    "            path.append((1,1))\n",
    "        else:\n",
    "            path = select_recursive(l_split, path, split_trees_dict, probability_dict, repeat_possibility)\n",
    "\n",
    "    ######################\n",
    "    if l_split == r_split:\n",
    "        ###DangerZone\n",
    "        repeat_possibility = True\n",
    "    ######################\n",
    "    if r_split != 1:\n",
    "        if r_split == 2:\n",
    "            path.append((1,1))\n",
    "        else:\n",
    "            path = select_recursive(r_split, path, split_trees_dict, probability_dict, repeat_possibility)\n",
    "    return path"
   ]
  },
  {
   "cell_type": "code",
   "execution_count": null,
   "metadata": {},
   "outputs": [],
   "source": [
    "tmp = tuple(select_recursive(n, [], split_trees_dict, probability_dict))\n",
    "assert len(tmp) == n-1"
   ]
  },
  {
   "cell_type": "code",
   "execution_count": null,
   "metadata": {},
   "outputs": [],
   "source": [
    "listy = []\n",
    "for i in range(200):\n",
    "    tmp = tuple(select_recursive(n, [], split_trees_dict, probability_dict))\n",
    "    assert len(tmp) == n-1\n",
    "    listy.append(tmp)"
   ]
  },
  {
   "cell_type": "code",
   "execution_count": null,
   "metadata": {},
   "outputs": [],
   "source": [
    "counter_dict = Counter(listy)\n",
    "# assert len(counter_dict.keys()) == n_trees_dict[n]\n",
    "print(counter_dict.values())"
   ]
  },
  {
   "cell_type": "code",
   "execution_count": null,
   "metadata": {},
   "outputs": [],
   "source": [
    "len(counter_dict.keys()), n_trees_dict[n]"
   ]
  },
  {
   "cell_type": "code",
   "execution_count": null,
   "metadata": {},
   "outputs": [],
   "source": [
    "for key, val in counter_dict.items():\n",
    "    print(key, val)"
   ]
  },
  {
   "cell_type": "code",
   "execution_count": null,
   "metadata": {},
   "outputs": [],
   "source": [
    "keys = counter_dict.keys()\n",
    "for key in sorted(keys):\n",
    "    print(key, counter_dict[key])"
   ]
  },
  {
   "cell_type": "code",
   "execution_count": null,
   "metadata": {},
   "outputs": [],
   "source": [
    "n_trees_dict[7]"
   ]
  },
  {
   "cell_type": "markdown",
   "metadata": {},
   "source": [
    "# Okay forget everything above here"
   ]
  },
  {
   "cell_type": "code",
   "execution_count": null,
   "metadata": {},
   "outputs": [],
   "source": [
    "split_trees_dict"
   ]
  },
  {
   "cell_type": "code",
   "execution_count": null,
   "metadata": {},
   "outputs": [],
   "source": [
    "sample_nonrecursive(10, split_trees_dict, probability_dict, l_probability_dict)"
   ]
  },
  {
   "cell_type": "code",
   "execution_count": null,
   "metadata": {},
   "outputs": [],
   "source": [
    "n=12\n",
    "listy = []\n",
    "for i in range(1000):\n",
    "    tmp = tuple(sample_nonrecursive(n, split_trees_dict, probability_dict, l_probability_dict))\n",
    "#     assert len(tmp) == n-1\n",
    "    listy.append(tmp)\n"
   ]
  },
  {
   "cell_type": "code",
   "execution_count": null,
   "metadata": {},
   "outputs": [],
   "source": [
    "tupley = []\n",
    "for i in listy:\n",
    "    toft = tuple(tuple(x) for x in i)\n",
    "    tupley.append(toft)\n",
    "counter_dict = Counter(tupley)\n",
    "print(len(counter_dict.keys()), n_trees_dict[n])\n",
    "print(stats.chisquare(list(counter_dict.values())))\n",
    "# counter_dict"
   ]
  },
  {
   "cell_type": "code",
   "execution_count": null,
   "metadata": {},
   "outputs": [],
   "source": [
    "blah = 6\n",
    "n_trees_dict[blah], (((blah**2)-blah)/2)+blah, split_trees_dict[blah]"
   ]
  },
  {
   "cell_type": "code",
   "execution_count": null,
   "metadata": {},
   "outputs": [],
   "source": [
    "l_probability_dict[6], probability_dict[6], split_trees_dict[6]"
   ]
  },
  {
   "cell_type": "code",
   "execution_count": null,
   "metadata": {},
   "outputs": [],
   "source": [
    "l_probability_dict[6]"
   ]
  },
  {
   "cell_type": "code",
   "execution_count": null,
   "metadata": {},
   "outputs": [],
   "source": [
    "def sample_tree(n, split_trees_dict, probability_dict, l_probability_dict):\n",
    "    ###Get the first split here\n",
    "    init_index = np.random.choice(len(split_trees_dict[n]), p=probability_dict[n])\n",
    "    init_choice = split_trees_dict[n][init_index]\n",
    "    starting_list = [init_choice]\n",
    "    if init_choice[0] == init_choice[1]:\n",
    "        splits = select_recursive_left(init_choice, starting_list, split_trees_dict,\\\n",
    "                                  probability_dict, l_probability_dict, symmetry=True)\n",
    "        splits = select_recursive_right(init_choice, starting_list, split_trees_dict,\\\n",
    "                                  probability_dict, l_probability_dict, symmetry=True)\n",
    "    else:\n",
    "        splits = select_recursive(init_choice[0], starting_list, split_trees_dict,\\\n",
    "                                  probability_dict, l_probability_dict)\n",
    "        splits = select_recursive(init_choice[0], starting_list, split_trees_dict,\\\n",
    "                                  probability_dict, l_probability_dict)\n",
    "    return splits\n",
    "\n",
    "\n",
    "def select_recursive_rside(splits, path, split_trees_dict, probability_dict,\\\n",
    "                               l_probability_dict, l_index_choice):\n",
    "    path.append(splits)\n",
    "    if splits == (1,1):\n",
    "        pass\n",
    "    else:\n",
    "        ###This introduces an asymmetry in choices between my two sides(!)\n",
    "        l_split = splits[0]\n",
    "        r_split = splits[1]\n",
    "        l_index = np.random.choice(len(split_trees_dict[l_split]), p=l_probability_dict[l_split])\n",
    "        l_choice = split_trees_dict[l_split][l_index]\n",
    "\n",
    "        ###R split is now conditional on the choice of l-split! Perhaps this monstrosity should be re-computed\n",
    "        ###but doing it separately here for now.\n",
    "        if r_split == 1:\n",
    "            r_choice = None\n",
    "        else:\n",
    "            naive = probability_dict[r_split]\n",
    "            naive = naive*\\\n",
    "                np.concatenate((np.ones(l_index+1, dtype=object),\\\n",
    "                                np.zeros(len(naive)-(l_index+1), dtype=object)), axis=0)\n",
    "            naive = list(naive)\n",
    "            totals = sum(naive)\n",
    "            adj_probs = [i/totals for i in naive]\n",
    "            r_index = np.random.choice(len(split_trees_dict[r_split]), p=adj_probs)\n",
    "            r_choice = split_trees_dict[r_split][r_index]\n",
    "        if l_choice != r_choice:\n",
    "            path = select_recursive(l_choice, path, split_trees_dict, probability_dict, l_probability_dict)\n",
    "            if r_choice:\n",
    "                path = select_recursive(r_choice, path, split_trees_dict, probability_dict, l_probability_dict)\n",
    "        else:\n",
    "            path = select_recursive_lside(l_choice, path, split_trees_dict,\\\n",
    "                                              probability_dict, l_probability_dict)\n",
    "            if r_choice:\n",
    "                path = select_recursive_rside(r_choice, path, split_trees_dict,\\\n",
    "                                                  probability_dict, l_probability_dict) \n",
    "        \n",
    "    return path\n",
    "\n",
    "def select_recursive_lside(n, path, split_trees_dict, probability_dict,\\\n",
    "                               l_probability_dict, symmetry=False):\n",
    "    \n",
    "    index = np.random.choice(len(split_trees_dict[n]), p=l_probability_dict[n])\n",
    "    split = split_trees_dict[n][index]\n",
    "    path.append(split)\n",
    "  \n",
    "    elif (split[0] == split[1]):\n",
    "        path, l_lineage = select_recursive_lside(split[0], path, split_trees_dict, probability_dict, l_probability_dict) \n",
    "        path = select_recursive_rside(split[1], path, split_trees_dict, probability_dict, l_probability_dict) \n",
    "\n",
    "    \n",
    "    \n",
    "    if split == (1,1):\n",
    "        pass\n",
    "    else:\n",
    "        ###This introduces an asymmetry in choices between my two sides(!)\n",
    "        l_split = splits[0]\n",
    "        r_split = splits[1]\n",
    "\n",
    "\n",
    "        ###R split is now conditional on the choice of l-split! Perhaps this monstrosity should be re-computed\n",
    "        ###but doing it separately here for now.\n",
    "        if r_split == 1:\n",
    "            r_choice = None\n",
    "        else:\n",
    "            naive = probability_dict[r_split]\n",
    "            naive = naive*\\\n",
    "                np.concatenate((np.ones(l_index+1, dtype=object),\\\n",
    "                                np.zeros(len(naive)-(l_index+1), dtype=object)), axis=0)\n",
    "            naive = list(naive)\n",
    "            totals = sum(naive)\n",
    "            adj_probs = [i/totals for i in naive]\n",
    "            r_index = np.random.choice(len(split_trees_dict[r_split]), p=adj_probs)\n",
    "            r_choice = split_trees_dict[r_split][r_index]\n",
    "        if l_choice != r_choice:\n",
    "            path = select_recursive(l_choice, path, split_trees_dict, probability_dict, l_probability_dict)\n",
    "            if r_choice:\n",
    "                path = select_recursive(r_choice, path, split_trees_dict, probability_dict, l_probability_dict)\n",
    "        else:\n",
    "            path = select_recursive_lside(l_choice, path, split_trees_dict,\\\n",
    "                                              probability_dict, l_probability_dict)\n",
    "            probs = \n",
    "            if r_choice:\n",
    "                path = select_recursive_rside(r_choice, path, split_trees_dict,\\\n",
    "                                                  probability_dict, l_probability_dict) \n",
    "        \n",
    "    return path\n",
    "\n",
    "def get_symmetric_lineages(l_side, r_side):\n",
    "    l_lineage = []\n",
    "    r_lineage = []\n",
    "    while l_lineage == r_lineage:\n",
    "        index = np.random.choice(len(split_trees_dict[l_val]), p=l_probability_dict[l_val])\n",
    "        l_split = split_trees_dict[l_side][index]\n",
    "        l_lineage.append(l_split)\n",
    "        \n",
    "        naive = probability_dict[r_side]\n",
    "        naive = naive*\\\n",
    "            np.concatenate((np.ones(index+1, dtype=object),\\\n",
    "                            np.zeros(len(naive)-(index+1), dtype=object)), axis=0)\n",
    "        naive = list(naive)\n",
    "        totals = sum(naive)\n",
    "        adj_probs = [i/totals for i in naive]\n",
    "        r_index = np.random.choice(len(split_trees_dict[r_side]), p=adj_probs)\n",
    "        r_split = split_trees_dict[r_side][r_index]\n",
    "        r_lineage.append(r_split)\n",
    "        \n",
    "        l_side = l_split[0]\n",
    "        r_side = r_split[0]\n",
    "    return l_lineage, r_lineage\n",
    "\n",
    "\n",
    "def select_recursive(n, path, split_trees_dict, probability_dict, l_probability_dict, symmetry=False):\n",
    "    \"\"\"\n",
    "    Oooof this started out so clean and nice. Needs a re-do\n",
    "    \"\"\"\n",
    "    index = np.random.choice(len(split_trees_dict[n]), p=probability_dict[n])\n",
    "    split = split_trees_dict[n][index]\n",
    "    path.append(split)\n",
    "\n",
    "    if split == (1, 1):\n",
    "        pass\n",
    "    \n",
    "    elif (split[0] != split[1]):\n",
    "        for choice in split:\n",
    "            if side != 1:\n",
    "                path = select_recursive(choice, path, split_trees_dict, probability_dict, l_probability_dict)\n",
    "                \n",
    "    elif (splits[0] == splits[1]):\n",
    "        ###Dive in until they differ\n",
    "        l_lineage, r_lineage = get_symmetric_lineages()\n",
    "        \n",
    "        \n",
    "        path, l_lineage = select_recursive_lside(split[0], path, split_trees_dict, probability_dict, l_probability_dict) \n",
    "        path = select_recursive_rside(split[1], path, split_trees_dict, probability_dict, l_probability_dict) \n",
    "\n",
    "    return path\n",
    "\n",
    "# def select_recursive(splits, path, split_trees_dict, probability_dict, l_probability_dict):\n",
    "#     \"\"\"\n",
    "#     Oooof this started out so clean and nice. Needs a re-do\n",
    "#     \"\"\"\n",
    "#     path.append(splits)\n",
    "#     if splits == (1, 1):\n",
    "#         pass\n",
    "    \n",
    "#     elif (splits[0] != splits[1]) or (splits[0] in [2,3]):\n",
    "#         for split in splits:\n",
    "#             if split != 1:\n",
    "#                 index = np.random.choice(len(split_trees_dict[split]), p=probability_dict[split])\n",
    "#                 choice = split_trees_dict[split][index]\n",
    "#                 path = select_recursive(choice, path, split_trees_dict, probability_dict, l_probability_dict)\n",
    "#     else:\n",
    "#         ###This whole thing is equivalent to sampling from the upper triangle (including identity) of a matrix\n",
    "#         split = splits[0]\n",
    "#         l_index = np.random.choice(len(split_trees_dict[split]), p=l_probability_dict[split])\n",
    "#         l_choice = split_trees_dict[split][l_index]\n",
    "#         path = select_recursive(l_choice, path, split_trees_dict, probability_dict, l_probability_dict)\n",
    "        \n",
    "#         ###R split is conditional on the choice of l-split! Perhaps this monstrosity should be re-computed\n",
    "#         ###but doing it separately here for now.\n",
    "#         naive = probability_dict[split]\n",
    "#         naive = naive*\\\n",
    "#             np.concatenate((np.ones(l_index+1, dtype=object),\\\n",
    "#                             np.zeros(len(naive)-(l_index+1), dtype=object)), axis=0)\n",
    "#         naive = list(naive)\n",
    "#         totals = sum(naive)\n",
    "#         adj_probs = [i/totals for i in naive]\n",
    "#         r_index = np.random.choice(len(split_trees_dict[split]), p=adj_probs)\n",
    "#         r_choice = split_trees_dict[split][r_index]\n",
    "#         if r_choice == l_choice:\n",
    "#             pass\n",
    "#         path = select_recursive(r_choice, path, split_trees_dict, probability_dict, l_probability_dict)\n",
    "        \n",
    "#     return path"
   ]
  },
  {
   "cell_type": "code",
   "execution_count": null,
   "metadata": {},
   "outputs": [],
   "source": [
    "l_probability_dict[4]"
   ]
  },
  {
   "cell_type": "code",
   "execution_count": null,
   "metadata": {},
   "outputs": [],
   "source": [
    "naive = probability_dict[5]\n",
    "l_index = 0\n",
    "naive = naive*\\\n",
    "            np.concatenate((np.ones(l_index+1, dtype=object),\\\n",
    "                            np.zeros(len(naive)-(l_index+1), dtype=object)), axis=0)\n",
    "naive = list(naive)\n",
    "totals = sum(naive)\n",
    "adj_probs = [i/totals for i in naive]\n",
    "r_index = np.random.choice(len(split_trees_dict[5]), p=adj_probs)\n",
    "r_choice = split_trees_dict[5][r_index]\n",
    "naive, totals, adj_probs, r_choice"
   ]
  },
  {
   "cell_type": "markdown",
   "metadata": {},
   "source": [
    "**Build up the necessary dictionaries**"
   ]
  },
  {
   "cell_type": "code",
   "execution_count": null,
   "metadata": {},
   "outputs": [],
   "source": [
    "n=10\n",
    "n_trees_dict = {}\n",
    "n_trees_dict[1] = 1\n",
    "\n",
    "split_trees_dict = {}\n",
    "probability_dict = {}\n",
    "for tree in range(2, n+1):\n",
    "    range_val = tree//2+1\n",
    "    tots = []\n",
    "    split_pairs = []\n",
    "    for i in range(1, range_val):\n",
    "        j = tree-i\n",
    "        split_pairs.append((j,i))\n",
    "        if i != j:\n",
    "            tots.append(n_trees_dict[i]*n_trees_dict[j])\n",
    "        else:\n",
    "            tots.append((((n_trees_dict[i]**2)-n_trees_dict[i])//2)+n_trees_dict[i])\n",
    "    total_possible = sum(tots)\n",
    "    probability_dict[tree] = [i/total_possible for i in tots]\n",
    "    n_trees_dict[tree] = total_possible\n",
    "    split_trees_dict[tree] = split_pairs\n",
    "    \n",
    "####I might be able to accomplish the same thing by just multiplying these by the probabilities above...hmm\n",
    "l_probability_dict = {}\n",
    "for tree in range(2, n+1):\n",
    "    range_val = tree//2+1\n",
    "    tots = []\n",
    "    split_pairs = []\n",
    "    for i in range(1, range_val):\n",
    "        j = tree-i\n",
    "        split_pairs.append((j,i))\n",
    "        if i != j:\n",
    "            tots.append(n_trees_dict[i]*n_trees_dict[j])\n",
    "        else:\n",
    "            tots.append((((n_trees_dict[i]**2)-n_trees_dict[i])//2)+n_trees_dict[i])\n",
    "#     tots_l = tots*np.arange(len(split_pairs), 0, -1, dtype=object)\n",
    "\n",
    "    tots_l = tots*np.arange(1, len(split_pairs)+1, 1, dtype=object)\n",
    "    tots_l = list(tots_l)\n",
    "#     print(tots_l)\n",
    "    total_possible_l = sum(tots_l)\n",
    "    l_probability_dict[tree] = [i/total_possible_l for i in tots_l]"
   ]
  },
  {
   "cell_type": "markdown",
   "metadata": {},
   "source": [
    "**Running the sampler**"
   ]
  },
  {
   "cell_type": "code",
   "execution_count": null,
   "metadata": {},
   "outputs": [],
   "source": [
    "listy = []\n",
    "for i in range(10000):\n",
    "    tmp = tuple(sample_tree(n, split_trees_dict, probability_dict, l_probability_dict))\n",
    "#     print(tmp)\n",
    "    assert len(tmp) == n-1\n",
    "    listy.append(tmp)"
   ]
  },
  {
   "cell_type": "code",
   "execution_count": null,
   "metadata": {},
   "outputs": [],
   "source": [
    "counter_dict = Counter(listy)\n",
    "# counter_dict"
   ]
  },
  {
   "cell_type": "code",
   "execution_count": null,
   "metadata": {},
   "outputs": [],
   "source": [
    "stats.chisquare(list(counter_dict.values()))"
   ]
  },
  {
   "cell_type": "code",
   "execution_count": null,
   "metadata": {},
   "outputs": [],
   "source": [
    "len(counter_dict.keys()), n_trees_dict[n]"
   ]
  },
  {
   "cell_type": "code",
   "execution_count": null,
   "metadata": {},
   "outputs": [],
   "source": [
    "for key, val in counter_dict.items():\n",
    "#     if key[0]==(5,5):\n",
    "    if key[0]==(5,5) and key[1]==(4,1):\n",
    "#     if key[0]==(6,6) and key[1]==(5,1):\n",
    "        print(key, val)"
   ]
  },
  {
   "cell_type": "code",
   "execution_count": null,
   "metadata": {},
   "outputs": [],
   "source": [
    "n_trees_dict[6], n_trees_dict[5]"
   ]
  },
  {
   "cell_type": "code",
   "execution_count": null,
   "metadata": {},
   "outputs": [],
   "source": [
    "np.concatenate((np.zeros(1, dtype=object), np.ones(2-1, dtype=object)), axis=0)"
   ]
  },
  {
   "cell_type": "code",
   "execution_count": null,
   "metadata": {},
   "outputs": [],
   "source": []
  },
  {
   "cell_type": "code",
   "execution_count": null,
   "metadata": {},
   "outputs": [],
   "source": []
  },
  {
   "cell_type": "code",
   "execution_count": null,
   "metadata": {},
   "outputs": [],
   "source": []
  },
  {
   "cell_type": "code",
   "execution_count": null,
   "metadata": {},
   "outputs": [],
   "source": []
  },
  {
   "cell_type": "markdown",
   "metadata": {},
   "source": [
    "# Begrudgingly using the array tables..."
   ]
  },
  {
   "cell_type": "code",
   "execution_count": null,
   "metadata": {},
   "outputs": [],
   "source": [
    "def build_table_sparse(n):\n",
    "    n_trees_dict = {}\n",
    "    n_trees_dict[1] = 1\n",
    "    tree_list = [1]\n",
    "    lside = [1]\n",
    "    rside = [None]\n",
    "    for tree in range(2, n+1):\n",
    "        range_val = tree//2+1\n",
    "        tots = []\n",
    "        split_pairs = []\n",
    "        for i in range(1, range_val):\n",
    "            j = tree-i\n",
    "            split_pairs.append((j,i))\n",
    "            tree_list.append(tree)\n",
    "            lside.append(j)\n",
    "            rside.append(i)\n",
    "            if i != j:\n",
    "                tots.append(n_trees_dict[i]*n_trees_dict[j])\n",
    "            else:\n",
    "                tots.append((((n_trees_dict[i]**2)-n_trees_dict[i])//2)+n_trees_dict[i])\n",
    "        total_possible = sum(tots)\n",
    "        n_trees_dict[tree] = total_possible\n",
    "    \n",
    "    df = pd.DataFrame(list(zip(tree_list, lside, rside)), dtype=object)\n",
    "\n",
    "    return df, n_trees_dict\n",
    "\n",
    "def build_table_full(n):\n",
    "    df = pd.DataFrame([[1, 1, 1, 1, 1, 1, 1]], index=[0], dtype=object)\n",
    "    counter = 1\n",
    "\n",
    "    n_trees_dict = {}\n",
    "    n_trees_dict[1] = 1\n",
    "\n",
    "    \n",
    "    for tree in range(2, n+1):\n",
    "        range_val = tree//2+1\n",
    "        tots = []\n",
    "        split_pairs = []\n",
    "        for i in range(1, range_val):\n",
    "            j = tree-i\n",
    "            split_pairs.append((j,i))\n",
    "            \n",
    "        for j,i in split_pairs:\n",
    "            df.at[counter, 0] = tree\n",
    "            df.at[counter, 1] = j\n",
    "            df.at[counter, 2] = i\n",
    "            if i != j:\n",
    "                df.at[counter, 5] = n_trees_dict[i]*n_trees_dict[j]\n",
    "                tots.append(n_trees_dict[i]*n_trees_dict[j])\n",
    "            else:\n",
    "                df.at[counter, 5] = (((n_trees_dict[i]**2)-n_trees_dict[i])//2)+n_trees_dict[i]\n",
    "                tots.append((((n_trees_dict[i]**2)-n_trees_dict[i])//2)+n_trees_dict[i])\n",
    "            df.at[counter, 3] = n_trees_dict[j]\n",
    "            df.at[counter, 4] = n_trees_dict[i]\n",
    "            df.at[counter, 6]= df[df[0]==tree][5].sum()\n",
    "            counter += 1\n",
    "\n",
    "        total_possible = df[df[0]==tree][5].sum()\n",
    "#         total_possible = sum(tots)\n",
    "        n_trees_dict[tree] = total_possible\n",
    "            \n",
    "    return df, n_trees_dict\n",
    "\n",
    "# def build_tree_full(df, n_trees_dict, n_leaves):\n",
    "#     '''\n",
    "#     Maybe this is where my recursive algorithm could/should lie?\n",
    "#     '''\n",
    "#     #Start by first looking at the end of the df\n",
    "#     n_trees = n_trees_dict[n]\n",
    "#     #Establishing which_tree I want to grab\n",
    "#     tree_index = random.randint(1, n_trees)\n",
    "        \n",
    "#     possible_set = df[df[0]==n_leaves]\n",
    "#     line, n_within = select_line(possible_set, tree_index)\n",
    "\n",
    "#     l_n, r_n = select_descendants(n_within, df[df[0]==line[1]].iloc[-1][6], df[df[0]==line[2]].iloc[-1][6])\n",
    "#     #Now need line and index of these children\n",
    "#     l_child_set = df[df[0]==line[1]]\n",
    "#     l_line, l_n_within = select_line(l_child_set, l_n)\n",
    "#     r_child_set = df[df[0]==line[2]]\n",
    "#     r_line, r_n_within = select_line(r_child_set, r_n)\n",
    "\n",
    "#     my_tree = ete3.Tree()\n",
    "#     l_split = my_tree.add_child(name=(l_line.name, l_n_within)) \n",
    "#     r_split = my_tree.add_child(name=(r_line.name, r_n_within)) \n",
    "#     my_tree = build_recursive_full(my_tree, my_tree, df)\n",
    "#     return my_tree\n",
    "\n",
    "# def build_recursive_full(my_tree, node, df):\n",
    "#     if node.children == []:\n",
    "#         return my_tree\n",
    "#     for child_node in node.children:\n",
    "#         if child_node.name[0] != 0:\n",
    "#             child_name, child_n = child_node.name\n",
    "#             line = df.loc[child_name]\n",
    "#             ###How many options were there\n",
    "#             level = df[df[0]==line[0]]\n",
    "#             l_n, r_n = select_descendants(child_n,\\\n",
    "#                                      df[df[0]==line[1]].iloc[-1][6], df[df[0]==line[2]].iloc[-1][6])\n",
    "#             #Now need line and index of these children\n",
    "#             l_child_set = df[df[0]==line[1]]\n",
    "#             l_line, l_n_within = select_line(l_child_set, l_n)\n",
    "#             r_child_set = df[df[0]==line[2]]\n",
    "#             r_line, r_n_within = select_line(r_child_set, r_n)\n",
    "            \n",
    "#             l_split = child_node.add_child(name=(l_line.name, l_n_within)) \n",
    "#             r_split = child_node.add_child(name=(r_line.name, r_n_within))     \n",
    "#             my_tree = build_recursive_full(my_tree, child_node, df)\n",
    "\n",
    "#     return my_tree\n",
    "\n",
    "# def select_line(df, index):\n",
    "#     try:\n",
    "#         line_before = df[df[6]<index].iloc[-1]\n",
    "#         return df.loc[line_before.name+1], index-line_before[6]\n",
    "#     except IndexError:\n",
    "#         line = df.iloc[0]\n",
    "#         return line, index\n",
    "    \n",
    "# def select_descendants(i, l_trees, r_trees):\n",
    "#     \"\"\"\n",
    "#     Technically not just selecting the square with this update...\n",
    "#     \"\"\"\n",
    "#     if l_trees != r_trees:\n",
    "#         lside = (i-1)%l_trees+1\n",
    "#         rside = ((i-1)//l_trees)+1\n",
    "#     else:\n",
    "#         lside, rside = tri_indices(i-1, l_trees)\n",
    "#         lside += 1\n",
    "#         rside += 1\n",
    "#     return lside, rside"
   ]
  },
  {
   "cell_type": "code",
   "execution_count": null,
   "metadata": {},
   "outputs": [],
   "source": [
    "####This might actually work!\n",
    "def tri_indices(i, mat_len):\n",
    "    ii = (mat_len*(mat_len+1))//2-1-i\n",
    "#     K = floor((sqrt((8*ii)+1)-1)/2)\n",
    "    K = (isqrt(8*ii+1)-1)//2\n",
    "    row = mat_len-1-K\n",
    "    return row, i - (mat_len*(mat_len-1)//2) + ((mat_len-row)*((mat_len-row)-1))//2\n",
    "\n",
    "def isqrt(n):\n",
    "    \"\"\"\n",
    "    Need to upgrade to python 3.8 for math.isqrt()\n",
    "    \"\"\"\n",
    "    x = n\n",
    "    y = (x + 1) // 2\n",
    "    while y < x:\n",
    "        x = y\n",
    "        y = (x + n // x) // 2\n",
    "    return x\n",
    "\n",
    "\n",
    "###Testing my triangle indices\n",
    "# from numpy import triu_indices, sqrt\n",
    "# n = 200\n",
    "# for k in range((n**2-n)//2+n):\n",
    "#     i, j = mat_indices(k, n)\n",
    "#     assert np.triu_indices(n, k=0)[0][k] == i\n",
    "#     assert np.triu_indices(n, k=0)[1][k] == j, print('###',np.triu_indices(n, k=0)[1][k], j)"
   ]
  },
  {
   "cell_type": "code",
   "execution_count": null,
   "metadata": {},
   "outputs": [],
   "source": [
    "# %%timeit\n",
    "# df = build_table_full(10)\n",
    "# df, trash = build_table_sparse(10)"
   ]
  },
  {
   "cell_type": "code",
   "execution_count": null,
   "metadata": {},
   "outputs": [],
   "source": [
    "n = 8\n",
    "df, n_trees_dict = build_table_full(n)\n",
    "testy = []\n",
    "for i in range(20):\n",
    "    tree = build_tree_full(df, n_trees_dict, n)\n",
    "    tree.name = ''\n",
    "    for node in tree.get_descendants():\n",
    "        node.name = ''\n",
    "    assert len(tree.get_leaves()) == n\n",
    "    testy.append(tree.write('newick', format=100))"
   ]
  },
  {
   "cell_type": "code",
   "execution_count": null,
   "metadata": {},
   "outputs": [],
   "source": [
    "# Phylo.draw(Phylo.read(StringIO(testy[0]), 'newick'))"
   ]
  },
  {
   "cell_type": "code",
   "execution_count": null,
   "metadata": {},
   "outputs": [],
   "source": [
    "counter_dict = Counter(testy)\n",
    "print(len(counter_dict.values()))\n",
    "print(stats.chisquare(list(counter_dict.values())))"
   ]
  },
  {
   "cell_type": "code",
   "execution_count": null,
   "metadata": {
    "scrolled": false
   },
   "outputs": [],
   "source": [
    "for newick in counter_dict.keys():\n",
    "    print(counter_dict[newick])\n",
    "    Phylo.draw(Phylo.read(StringIO(newick), 'newick'))"
   ]
  },
  {
   "cell_type": "code",
   "execution_count": null,
   "metadata": {},
   "outputs": [],
   "source": []
  },
  {
   "cell_type": "code",
   "execution_count": null,
   "metadata": {},
   "outputs": [],
   "source": []
  },
  {
   "cell_type": "code",
   "execution_count": null,
   "metadata": {},
   "outputs": [],
   "source": []
  },
  {
   "cell_type": "markdown",
   "metadata": {},
   "source": [
    "# A more reasonable run-time solution...perhaps"
   ]
  },
  {
   "cell_type": "code",
   "execution_count": 3,
   "metadata": {},
   "outputs": [],
   "source": [
    "####This might actually work!\n",
    "def triu_indices_AJH(i, mat_len):\n",
    "    \"\"\"\n",
    "    This function gets the triangular indices from a square matrix (including the diagonal). \n",
    "    It was developed with a bit of guess and check and using some functions/solutions I found \n",
    "    online but it looks robust. Should be tested more extensively but my test against numpy triu_indices()\n",
    "    works well (and this of course skips the matrix building step).\n",
    "    \n",
    "    Critical differences to some fxns found online were making sure it runs on integer math to handle\n",
    "    enormous numbers.\n",
    "    \n",
    "    Relies on isqrt, which should be the python implementation in >3.8 but Newton's method works (slowly)\n",
    "    \n",
    "    Inputs:\n",
    "        i - the linear index of interest\n",
    "        m - the dimensions of one side of the square matrix\n",
    "        \n",
    "    Outputs\n",
    "        row index\n",
    "        column index\n",
    "    \"\"\"\n",
    "    ii = (mat_len*(mat_len+1))//2-1-i\n",
    "    K = (isqrt(8*ii+1)-1)//2\n",
    "    row = mat_len-1-K\n",
    "    return row, i - (mat_len*(mat_len-1)//2) + ((mat_len-row)*((mat_len-row)-1))//2\n",
    "\n",
    "\n",
    "def triu_accuracy_test(max_n_to_test):\n",
    "    \"\"\"\n",
    "    Tests the accuracy of my triangle indices test compared to numpy.\n",
    "    The advantage of mine is not having to actually build the matrix and instead work directly \n",
    "    with the dimensions.\n",
    "    \n",
    "    Will run slowly so am arbitrarily limiting max_n_to_test to 200\n",
    "    \"\"\"\n",
    "    if max_n_to_test > 100:\n",
    "        max_n_to_test = 100\n",
    "        print(\"Setting max variable to test to 100, test takes a long time otherwise.\")\n",
    "    for n in range(1, max_n_to_test+1):\n",
    "        for k in range(((n**2-n)//2)+n):\n",
    "            i, j = triu_indices_AJH(k, n)\n",
    "            assert np.triu_indices(n, k=0)[0][k] == i\n",
    "            assert np.triu_indices(n, k=0)[1][k] == j, print('###',np.triu_indices(n, k=0)[1][k], j)\n",
    "\n",
    "def isqrt(n):\n",
    "    \"\"\"\n",
    "    Integer square root. Need to upgrade to python 3.8 for math.isqrt()\n",
    "    \"\"\"\n",
    "    x = n\n",
    "    y = (x + 1) // 2\n",
    "    while y < x:\n",
    "        x = y\n",
    "        y = (x + n // x) // 2\n",
    "    return x"
   ]
  },
  {
   "cell_type": "code",
   "execution_count": 4,
   "metadata": {},
   "outputs": [],
   "source": [
    "def build_dicts(n):\n",
    "    ###The dictionary that will hold the number of possible trees with a given number of leaves\n",
    "    n_trees_dict = {}\n",
    "    ###It has a few quirks that need to be added manually\n",
    "    n_trees_dict[np.nan] = np.nan\n",
    "    n_trees_dict[1] = 1\n",
    "    \n",
    "    ###Establishing the arrays that hold the number of downstream children on the left and right\n",
    "    ###sides of a bifurcation\n",
    "    l_side = [1]\n",
    "    r_side = [np.nan]\n",
    "    ###A pointer dictionary that tracks where in those arrays trees with a given number of leaves reside\n",
    "    pointer_dict = {}\n",
    "    pointer_dict[1] = (0, 0) #i.e. the first index contains trees related to 1 downstream leaf\n",
    "    \n",
    "    ###Build up the quantities\n",
    "    for tree in range(2, n+1):\n",
    "        starting_index = len(l_side)\n",
    "        range_val = tree//2+1\n",
    "        totals = []\n",
    "        for i in range(1, range_val):\n",
    "            j = tree-i\n",
    "            l_side.append(j)\n",
    "            r_side.append(i)\n",
    "            if i!=j:\n",
    "                totals.append(n_trees_dict[i]*n_trees_dict[j])\n",
    "            else:\n",
    "                totals.append((((n_trees_dict[i]**2)-n_trees_dict[i])//2)+n_trees_dict[i])\n",
    "        ending_index = len(l_side)-1\n",
    "        totals = sum(totals)\n",
    "        n_trees_dict[tree] = totals\n",
    "        pointer_dict[tree] = (starting_index, ending_index)\n",
    "    return l_side, r_side, n_trees_dict, pointer_dict \n",
    "\n",
    "\n",
    "def build_tree_full(lside_arr, rside_arr, n_trees_dict, pointer_dict, n_leaves):\n",
    "    '''\n",
    "    Maybe this is where my recursive algorithm could/should lie?\n",
    "    '''\n",
    "    #Start by first looking at the end of the df\n",
    "    n_trees = n_trees_dict[n]\n",
    "    #Establishing the index of the tree that I want to grab\n",
    "    tree_index = random.randint(0, n_trees-1)\n",
    "    #Getting the number of descendants and index within that set\n",
    "    l_children, r_children, n_within = select_index(pointer_dict,\\\n",
    "                                                    lside_arr, rside_arr, n_trees_dict, tree_index, n)\n",
    "\n",
    "    l_index, r_index = select_descendants(l_children, r_children, n_within, n_trees_dict)\n",
    "    \n",
    "    l_l_children, l_r_children, l_n_within = select_index(pointer_dict,\\\n",
    "                                                lside_arr, rside_arr, n_trees_dict, l_index, l_children)\n",
    "    \n",
    "    r_l_children, r_r_children, r_n_within = select_index(pointer_dict,\\\n",
    "                                                lside_arr, rside_arr, n_trees_dict, r_index, r_children)\n",
    "\n",
    "    my_tree = ete3.Tree()\n",
    "    l_split = my_tree.add_child(name=(l_l_children, l_r_children, l_n_within)) \n",
    "    r_split = my_tree.add_child(name=(r_l_children, r_r_children, r_n_within)) \n",
    "    my_tree = build_recursive_full(my_tree, my_tree, lside_arr, rside_arr, n_trees_dict, pointer_dict)\n",
    "    return my_tree\n",
    "\n",
    "def select_index(pointer_dict, lside_arr, rside_arr, n_trees_dict, tree_index, n):\n",
    "    \"\"\"\n",
    "    The real problem is that I'm generating these values at each call\n",
    "    but like if I don't, I'll have to store them and for large n (>100)\n",
    "    this gets positively enormous/prohibitive.\n",
    "    \n",
    "    So instead, I generate this on the fly each time around? \n",
    "    \"\"\"\n",
    "    if n == 1:\n",
    "        return np.nan, np.nan, 0\n",
    "    lside_temp = np.array(lside_arr[pointer_dict[n][0]:pointer_dict[n][1]+1], dtype=object)\n",
    "    rside_temp = np.array(rside_arr[pointer_dict[n][0]:pointer_dict[n][1]+1], dtype=object)\n",
    "    lside_trees = np.array([n_trees_dict[i] for i in lside_temp], dtype=object)\n",
    "    rside_trees = np.array([n_trees_dict[i] for i in rside_temp], dtype=object)\n",
    "    multiplied = lside_trees*rside_trees\n",
    "    multiplied[lside_temp==rside_temp] = 0\n",
    "    triangularized = ((lside_trees**2 - lside_trees)//2)+lside_trees\n",
    "    triangularized[lside_temp!=rside_temp] = 0\n",
    "    combined = np.cumsum(multiplied + triangularized)\n",
    "\n",
    "    line_index = np.argmax(combined>tree_index)\n",
    "    if line_index == 0:\n",
    "        index_within = tree_index\n",
    "    else:\n",
    "        index_within = tree_index - combined[line_index-1]\n",
    "    l_children = lside_temp[line_index]\n",
    "    r_children = rside_temp[line_index]\n",
    "    return l_children, r_children, index_within\n",
    "\n",
    "\n",
    "    \n",
    "def select_descendants(l_children, r_children, index_within, n_trees_dict):\n",
    "    \"\"\"\n",
    "    Technically not just selecting the square with this update...\n",
    "    \"\"\"\n",
    "    if l_children != r_children:\n",
    "        l_trees = n_trees_dict[l_children]\n",
    "        r_trees = n_trees_dict[r_children]\n",
    "        lside = (index_within)%l_trees\n",
    "        rside = ((index_within)//l_trees)\n",
    "    else:\n",
    "        l_trees = n_trees_dict[l_children]\n",
    "        lside, rside = triu_indices_AJH(index_within, l_trees)\n",
    "    return lside, rside\n",
    "\n",
    "\n",
    "\n",
    "def build_recursive_full(my_tree, node, lside_arr, rside_arr, n_trees_dict, pointer_dict):\n",
    "    if node.children == []:\n",
    "        return my_tree\n",
    "    for child_node in node.children:\n",
    "        if child_node.name != (np.nan, np.nan, 0):\n",
    "            l_children, r_children, n_within = child_node.name\n",
    "            \n",
    "            l_index, r_index = select_descendants(l_children, r_children, n_within, n_trees_dict)\n",
    "            \n",
    "            l_l_children, l_r_children, l_n_within = select_index(pointer_dict,\\\n",
    "                                            lside_arr, rside_arr, n_trees_dict, l_index, l_children)\n",
    "    \n",
    "            r_l_children, r_r_children, r_n_within = select_index(pointer_dict,\\\n",
    "                                                lside_arr, rside_arr, n_trees_dict, r_index, r_children)\n",
    "\n",
    "            l_split = child_node.add_child(name=(l_l_children, l_r_children, l_n_within)) \n",
    "            r_split = child_node.add_child(name=(r_l_children, r_r_children, r_n_within))     \n",
    "            my_tree = build_recursive_full(my_tree, child_node,\\\n",
    "                                           lside_arr, rside_arr, n_trees_dict, pointer_dict)\n",
    "    return my_tree\n",
    "\n"
   ]
  },
  {
   "cell_type": "code",
   "execution_count": 19,
   "metadata": {},
   "outputs": [],
   "source": [
    "n = 1024\n",
    "l_side, r_side, n_trees_dict, pointer_dict = build_dicts(n)\n",
    "testy = []\n",
    "for i in range(100):\n",
    "    tree = build_tree_full(l_side, r_side, n_trees_dict, pointer_dict, n)\n",
    "    tree.name = ''\n",
    "    for node in tree.get_descendants():\n",
    "        node.name = ''\n",
    "    assert len(tree.get_leaves()) == n, len(tree.get_leaves())\n",
    "    testy.append(tree.write('newick', format=100))"
   ]
  },
  {
   "cell_type": "code",
   "execution_count": 20,
   "metadata": {},
   "outputs": [
    {
     "name": "stdout",
     "output_type": "stream",
     "text": [
      "100\n",
      "Power_divergenceResult(statistic=0.0, pvalue=1.0)\n"
     ]
    }
   ],
   "source": [
    "counter_dict = Counter(testy)\n",
    "print(len(counter_dict.values()))\n",
    "print(stats.chisquare(list(counter_dict.values())))"
   ]
  },
  {
   "cell_type": "code",
   "execution_count": null,
   "metadata": {
    "scrolled": false
   },
   "outputs": [],
   "source": [
    "# for newick in counter_dict.keys():\n",
    "#     print(counter_dict[newick])\n",
    "#     Phylo.draw(Phylo.read(StringIO(newick), 'newick'))"
   ]
  },
  {
   "cell_type": "code",
   "execution_count": null,
   "metadata": {},
   "outputs": [],
   "source": []
  },
  {
   "cell_type": "code",
   "execution_count": 21,
   "metadata": {},
   "outputs": [],
   "source": [
    "for i, j in enumerate(counter_dict.keys()):\n",
    "    with open('../{}_uniform_{}.newick'.format(1024, i), 'w') as outfile:\n",
    "        outfile.write(j)"
   ]
  },
  {
   "cell_type": "code",
   "execution_count": 22,
   "metadata": {},
   "outputs": [
    {
     "name": "stdout",
     "output_type": "stream",
     "text": [
      "0 28361\n",
      "1 32109\n",
      "2 62705\n",
      "3 38912\n",
      "4 35060\n",
      "5 62744\n",
      "6 50774\n",
      "7 48558\n",
      "8 61041\n",
      "9 45919\n",
      "10 83993\n",
      "11 43588\n",
      "12 61239\n",
      "13 54588\n",
      "14 55030\n",
      "15 75780\n",
      "16 43250\n",
      "17 40924\n",
      "18 38883\n",
      "19 48855\n",
      "20 49310\n",
      "21 32554\n",
      "22 43282\n",
      "23 42163\n",
      "24 53475\n",
      "25 64032\n",
      "26 34027\n",
      "27 70842\n",
      "28 40242\n",
      "29 29935\n",
      "30 38861\n",
      "31 33838\n",
      "32 51150\n",
      "33 54348\n",
      "34 35313\n",
      "35 42390\n",
      "36 33516\n",
      "37 50291\n",
      "38 39481\n",
      "39 38677\n",
      "40 74360\n",
      "41 60125\n",
      "42 29082\n",
      "43 32980\n",
      "44 30677\n",
      "45 30160\n",
      "46 72086\n",
      "47 44777\n",
      "48 47154\n",
      "49 37047\n",
      "50 48873\n",
      "51 53409\n",
      "52 37091\n",
      "53 62023\n",
      "54 48827\n",
      "55 56599\n",
      "56 32901\n",
      "57 42422\n",
      "58 60885\n",
      "59 54891\n",
      "60 42778\n",
      "61 31310\n",
      "62 41848\n",
      "63 41418\n",
      "64 49518\n",
      "65 39095\n",
      "66 53074\n",
      "67 39950\n",
      "68 39758\n",
      "69 24010\n",
      "70 53475\n",
      "71 52159\n",
      "72 32548\n",
      "73 46378\n",
      "74 19329\n",
      "75 33712\n",
      "76 38676\n",
      "77 84011\n",
      "78 54280\n",
      "79 61661\n",
      "80 49100\n",
      "81 71058\n",
      "82 48653\n",
      "83 45860\n",
      "84 33919\n",
      "85 47420\n",
      "86 57381\n",
      "87 51545\n",
      "88 66269\n",
      "89 61712\n",
      "90 28044\n",
      "91 39604\n",
      "92 52776\n",
      "93 26321\n",
      "94 54013\n",
      "95 57108\n",
      "96 35658\n",
      "97 40901\n",
      "98 39991\n",
      "99 65163\n"
     ]
    }
   ],
   "source": [
    "def colless_I(tree, normalized=False):\n",
    "    \"\"\"\n",
    "    Should really figure out a recursive solution to this problem.\n",
    "    \n",
    "    Seems like only using the prior value and the value from one side could ~halve the run time\n",
    "    \n",
    "    Another normalization scheme is the expected under BD model, let\n",
    "    first_part = ((2*n_leaves) / (n_leaves-1) * (n_leaves-2))\n",
    "    \n",
    "    if n_leaves is even:\n",
    "    first_part * np.sum(1./np.arange(2,n_leaves/2))\n",
    "    if odd:\n",
    "    first_part * ((1/n_leaves) + np.sum(1./np.arange(2,(n_leaves-1)/2)))\n",
    "\n",
    "\n",
    "    \"\"\"\n",
    "    node_diff = []\n",
    "    for node in tree.traverse():\n",
    "        try:\n",
    "            a, b = node.get_children()\n",
    "        except ValueError:\n",
    "            continue\n",
    "        node_diff.append(np.abs(len(a.get_leaves())-len(b.get_leaves())))\n",
    "    index_val = np.sum(node_diff)\n",
    "    if normalized:\n",
    "        n_leaves = len(tree.get_leaves())\n",
    "        return index_val/(((n_leaves-1)*(n_leaves-2))/2.)\n",
    "    else:\n",
    "        return index_val\n",
    "    \n",
    "for i, tree in enumerate(testy):\n",
    "    print(i, colless_I(ete3.Tree(tree, format=100)))"
   ]
  },
  {
   "cell_type": "code",
   "execution_count": 24,
   "metadata": {},
   "outputs": [
    {
     "data": {
      "image/png": "[encoded data removed]",
      "text/plain": [
       "<Figure size 432x288 with 1 Axes>"
      ]
     },
     "metadata": {
      "needs_background": "light"
     },
     "output_type": "display_data"
    }
   ],
   "source": [
    "Phylo.draw(Phylo.read(StringIO(testy[74]), 'newick'))"
   ]
  },
  {
   "cell_type": "code",
   "execution_count": null,
   "metadata": {},
   "outputs": [],
   "source": []
  },
  {
   "cell_type": "code",
   "execution_count": null,
   "metadata": {},
   "outputs": [],
   "source": [
    "def build_recursive_full(my_tree, node, df):\n",
    "    if node.children == []:\n",
    "        return my_tree\n",
    "    for child_node in node.children:\n",
    "        if child_node.name[0] != 0:\n",
    "            child_name, child_n = child_node.name\n",
    "            line = df.loc[child_name]\n",
    "            ###How many options were there\n",
    "            level = df[df[0]==line[0]]\n",
    "            l_n, r_n = select_descendants(child_n,\\\n",
    "                                     df[df[0]==line[1]].iloc[-1][6], df[df[0]==line[2]].iloc[-1][6])\n",
    "            #Now need line and index of these children\n",
    "            l_child_set = df[df[0]==line[1]]\n",
    "            l_line, l_n_within = select_line(l_child_set, l_n)\n",
    "            r_child_set = df[df[0]==line[2]]\n",
    "            r_line, r_n_within = select_line(r_child_set, r_n)\n",
    "            \n",
    "            l_split = child_node.add_child(name=(l_line.name, l_n_within)) \n",
    "            r_split = child_node.add_child(name=(r_line.name, r_n_within))     \n",
    "            my_tree = build_recursive_full(my_tree, child_node, df)\n",
    "\n",
    "    return my_tree\n",
    "\n",
    "\n"
   ]
  }
 ],
 "metadata": {
  "kernelspec": {
   "display_name": "Python 3",
   "language": "python",
   "name": "python3"
  },
  "language_info": {
   "codemirror_mode": {
    "name": "ipython",
    "version": 3
   },
   "file_extension": ".py",
   "mimetype": "text/x-python",
   "name": "python",
   "nbconvert_exporter": "python",
   "pygments_lexer": "ipython3",
   "version": "3.7.0"
  },
  "toc": {
   "colors": {
    "hover_highlight": "#DAA520",
    "navigate_num": "#000000",
    "navigate_text": "#333333",
    "running_highlight": "#FF0000",
    "selected_highlight": "#FFD700",
    "sidebar_border": "#EEEEEE",
    "wrapper_background": "#FFFFFF"
   },
   "moveMenuLeft": true,
   "nav_menu": {
    "height": "66px",
    "width": "252px"
   },
   "navigate_menu": true,
   "number_sections": true,
   "sideBar": true,
   "threshold": 4,
   "toc_cell": false,
   "toc_section_display": "block",
   "toc_window_display": false,
   "widenNotebook": false
  }
 },
 "nbformat": 4,
 "nbformat_minor": 2
}
