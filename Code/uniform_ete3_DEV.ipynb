{
 "cells": [
  {
   "cell_type": "code",
   "execution_count": 1,
   "metadata": {
    "collapsed": true
   },
   "outputs": [],
   "source": [
    "%matplotlib inline"
   ]
  },
  {
   "cell_type": "code",
   "execution_count": 2,
   "metadata": {
    "collapsed": true
   },
   "outputs": [],
   "source": [
    "import ete3\n",
    "import random\n",
    "\n",
    "import numpy as np\n",
    "\n",
    "from collections import Counter"
   ]
  },
  {
   "cell_type": "markdown",
   "metadata": {},
   "source": [
    "# 2 things to simulate that would be great"
   ]
  },
  {
   "cell_type": "code",
   "execution_count": null,
   "metadata": {
    "collapsed": false
   },
   "outputs": [],
   "source": [
    "my_tree = ete3.Tree() # Creates an empty tree\n",
    "A = my_tree.add_child(name=\"A\", dist=1.0) \n",
    "B = A.add_sister(name=\"B\", dist=1.0) \n",
    "C = my_tree.add_child(name=\"C\", dist=1.0)"
   ]
  },
  {
   "cell_type": "code",
   "execution_count": null,
   "metadata": {
    "collapsed": false
   },
   "outputs": [],
   "source": [
    "my_tree.render('%%inline')"
   ]
  },
  {
   "cell_type": "code",
   "execution_count": null,
   "metadata": {
    "collapsed": false
   },
   "outputs": [],
   "source": [
    "for i in range(10):\n",
    "    all_leaves = my_tree.get_leaves()\n",
    "    choice = random.choice(all_leaves)\n",
    "    choice.add_child(name=\"A\", dist=1.0)\n",
    "    choice.add_child(name=\"B\", dist=1.0)"
   ]
  },
  {
   "cell_type": "code",
   "execution_count": null,
   "metadata": {
    "collapsed": false
   },
   "outputs": [],
   "source": [
    "my_tree.get_leaves()"
   ]
  },
  {
   "cell_type": "code",
   "execution_count": null,
   "metadata": {
    "collapsed": false
   },
   "outputs": [],
   "source": [
    "def bottom_up_pectinate(n=2):\n",
    "    tree = ete3.Tree() # Creates an empty tree\n",
    "    A = tree.add_child(name=\"\", dist=1.) # Adds a new child to the current tree root\n",
    "    B = tree.add_child(name=\"\", dist=1.)\n",
    "    top_node = A\n",
    "    for i in range(n-2):\n",
    "        temp_a = top_node.add_child(name=\"\", dist=1.)\n",
    "        temp_b = top_node.add_child(name=\"\", dist=1.)\n",
    "        top_node = temp_a\n",
    "    return tree "
   ]
  },
  {
   "cell_type": "code",
   "execution_count": null,
   "metadata": {
    "collapsed": false
   },
   "outputs": [],
   "source": [
    "tree = bottom_up_pectinate(32)\n",
    "tree.render('%%inline')"
   ]
  },
  {
   "cell_type": "code",
   "execution_count": null,
   "metadata": {
    "collapsed": false
   },
   "outputs": [],
   "source": [
    "len(tree.get_leaves())"
   ]
  },
  {
   "cell_type": "markdown",
   "metadata": {},
   "source": [
    "# Pruning trees"
   ]
  },
  {
   "cell_type": "code",
   "execution_count": null,
   "metadata": {
    "collapsed": true
   },
   "outputs": [],
   "source": [
    "import string\n",
    "letters = string.ascii_lowercase"
   ]
  },
  {
   "cell_type": "code",
   "execution_count": null,
   "metadata": {
    "collapsed": false
   },
   "outputs": [],
   "source": [
    "tree = ete3.Tree() # Creates an empty tree\n",
    "A = tree.add_child(name='a', dist=1.) # Adds a new child to the current tree root\n",
    "B = tree.add_child(name='', dist=1.)\n",
    "top_node = B\n",
    "for i in range(16-2):\n",
    "#     temp_a = top_node.add_child(dist=1.)\n",
    "#     temp_b = top_node.add_child(dist=1.)\n",
    "    temp_a = top_node.add_child(name=letters[i+1], dist=1.)\n",
    "    temp_b = top_node.add_child(name=letters[i+2], dist=1.)\n",
    "    top_node = temp_b\n",
    "print(len(tree.get_leaves()))\n",
    "#ancestor.add_features(nodetype=\"internal\")"
   ]
  },
  {
   "cell_type": "code",
   "execution_count": null,
   "metadata": {
    "collapsed": false
   },
   "outputs": [],
   "source": [
    "tree.render('%%inline')"
   ]
  },
  {
   "cell_type": "code",
   "execution_count": null,
   "metadata": {
    "collapsed": false
   },
   "outputs": [],
   "source": [
    "for node in tree.traverse():\n",
    "    if len(node.get_children()) == 2:\n",
    "        node.name = ''"
   ]
  },
  {
   "cell_type": "code",
   "execution_count": null,
   "metadata": {
    "collapsed": false
   },
   "outputs": [],
   "source": [
    "I_val"
   ]
  },
  {
   "cell_type": "markdown",
   "metadata": {},
   "source": [
    "# All sweep\n",
    "\n",
    "This algorithm uses (will use) recursive concatenation of small trees to build up a set of all"
   ]
  },
  {
   "cell_type": "code",
   "execution_count": null,
   "metadata": {
    "collapsed": true
   },
   "outputs": [],
   "source": []
  },
  {
   "cell_type": "code",
   "execution_count": null,
   "metadata": {
    "collapsed": true
   },
   "outputs": [],
   "source": []
  },
  {
   "cell_type": "code",
   "execution_count": null,
   "metadata": {
    "collapsed": false
   },
   "outputs": [],
   "source": [
    "%%timeit\n",
    "size = 1000\n",
    "split_dict = {}\n",
    "split_dict[1] = []\n",
    "l_array = np.array([i for i in range(1, (size//2)+1)])\n",
    "r_array = np.zeros((size//2))\n",
    "for smaller in range(2, size+1, 1):\n",
    "    r_array[:smaller-1] += 1\n",
    "    split_dict[smaller] = (l_array[:smaller//2], r_array[:smaller//2])\n",
    "#     split_dict[smaller] = list(zip(l_array[:smaller//2], r_array[:smaller//2]))"
   ]
  },
  {
   "cell_type": "code",
   "execution_count": null,
   "metadata": {
    "collapsed": true
   },
   "outputs": [],
   "source": []
  },
  {
   "cell_type": "code",
   "execution_count": null,
   "metadata": {
    "collapsed": true
   },
   "outputs": [],
   "source": []
  },
  {
   "cell_type": "code",
   "execution_count": null,
   "metadata": {
    "collapsed": true
   },
   "outputs": [],
   "source": []
  },
  {
   "cell_type": "markdown",
   "metadata": {},
   "source": [
    "# Uniform sampler using the \"Dendrogram capacity\" method"
   ]
  },
  {
   "cell_type": "markdown",
   "metadata": {},
   "source": [
    "**First get dictionary of the number of possible trees for all values up to and including *n***"
   ]
  },
  {
   "cell_type": "code",
   "execution_count": null,
   "metadata": {
    "collapsed": false
   },
   "outputs": [],
   "source": [
    "n=8\n",
    "n_trees_dict = {}\n",
    "n_trees_dict[1] = 1\n",
    "\n",
    "split_trees_dict = {}\n",
    "probability_dict = {}\n",
    "for tree in range(2, n+1):\n",
    "    range_val = tree//2+1\n",
    "    tots = []\n",
    "    split_pairs = []\n",
    "    for i in range(1, range_val):\n",
    "        j = tree-i\n",
    "        split_pairs.append((j,i))\n",
    "        if i != j:\n",
    "            tots.append(n_trees_dict[i]*n_trees_dict[j])\n",
    "        else:\n",
    "            tots.append((((n_trees_dict[i]**2)-n_trees_dict[i])//2)+n_trees_dict[i])\n",
    "    total_possible = sum(tots)\n",
    "    probability_dict[tree] = [i/total_possible for i in tots]\n",
    "    n_trees_dict[tree] = total_possible\n",
    "    split_trees_dict[tree] = split_pairs"
   ]
  },
  {
   "cell_type": "code",
   "execution_count": null,
   "metadata": {
    "collapsed": false
   },
   "outputs": [],
   "source": [
    "n_trees_dict[4], split_trees_dict[4], probability_dict[4]"
   ]
  },
  {
   "cell_type": "code",
   "execution_count": null,
   "metadata": {
    "collapsed": false
   },
   "outputs": [],
   "source": [
    "n_trees_dict[8], split_trees_dict[8], probability_dict[8]"
   ]
  },
  {
   "cell_type": "code",
   "execution_count": null,
   "metadata": {
    "collapsed": false
   },
   "outputs": [],
   "source": [
    "i=4\n",
    "(((n_trees_dict[i]**2)-n_trees_dict[i])//2)+n_trees_dict[i]"
   ]
  },
  {
   "cell_type": "code",
   "execution_count": null,
   "metadata": {
    "collapsed": false
   },
   "outputs": [],
   "source": [
    "split_trees_dict"
   ]
  },
  {
   "cell_type": "code",
   "execution_count": null,
   "metadata": {
    "collapsed": false
   },
   "outputs": [],
   "source": [
    "probability_dict"
   ]
  },
  {
   "cell_type": "code",
   "execution_count": null,
   "metadata": {
    "collapsed": false
   },
   "outputs": [],
   "source": [
    "# even_probability_dict = {}\n",
    "# for i in range(2, 20//2+1):\n",
    "#     options = split_trees_dict[i]\n",
    "#     print(i, options)\n",
    "#     prob_modifier = list(range(i-2, 0, -1))\n",
    "#     print(prob_modifier)\n",
    "even_probability_dict_l = {}\n",
    "even_probability_dict_r = {}\n",
    "\n",
    "for tree in range(2, n+1):\n",
    "    print('######', tree)\n",
    "    range_val = tree//2+1\n",
    "    tots = []\n",
    "    split_pairs = []\n",
    "    for i in range(1, range_val):\n",
    "        j = tree-i\n",
    "#         if i != j:\n",
    "#             continue\n",
    "        print(j,i)\n",
    "        split_pairs.append((j,i))\n",
    "        if i != j:\n",
    "            tots.append(n_trees_dict[i]*n_trees_dict[j])\n",
    "        else:\n",
    "            tots.append((((n_trees_dict[i]**2)-n_trees_dict[i])//2)+n_trees_dict[i])\n",
    "    print(split_pairs)\n",
    "    tots_l = tots*np.arange(len(split_pairs), 0, -1)\n",
    "    tots_r = tots*np.arange(1, len(split_pairs)+1, 1)\n",
    "    tots_l = list(tots_l)\n",
    "    tots_r = list(tots_r)\n",
    "    total_possible_l = sum(tots_l)\n",
    "    total_possible_r = sum(tots_r)\n",
    "    even_probability_dict_l[tree] = [i/total_possible_l for i in tots_l]\n",
    "    even_probability_dict_r[tree] = [i/total_possible_r for i in tots_r]\n",
    "\n",
    "#     split_trees_dict[tree] = split_pairs\n",
    "    \n",
    "    \n",
    "#     l_side = []\n",
    "#     all_to_all = split_trees_dict[]\n"
   ]
  },
  {
   "cell_type": "code",
   "execution_count": null,
   "metadata": {
    "collapsed": false
   },
   "outputs": [],
   "source": [
    "even_probability_dict_l"
   ]
  },
  {
   "cell_type": "code",
   "execution_count": null,
   "metadata": {
    "collapsed": false
   },
   "outputs": [],
   "source": [
    "even_probability_dict_r"
   ]
  },
  {
   "cell_type": "code",
   "execution_count": null,
   "metadata": {
    "collapsed": false
   },
   "outputs": [],
   "source": [
    "8+7+6+5+4+3+2+1"
   ]
  },
  {
   "cell_type": "code",
   "execution_count": null,
   "metadata": {
    "collapsed": false
   },
   "outputs": [],
   "source": [
    "def select_recursive(n, path, split_trees_dict, probability_dict, repeat_possibility=False):\n",
    "#     if even_split == True:\n",
    "        \n",
    "#     else:\n",
    "        \n",
    "    index = np.random.choice(len(split_trees_dict[n]), p=probability_dict[n])\n",
    "    choice = split_trees_dict[n][index]\n",
    "#     print(choice)\n",
    "    path.append(choice)\n",
    "\n",
    "    l_split = choice[0]\n",
    "    r_split = choice[1]\n",
    "    if l_split != 1:\n",
    "        if l_split == 2:\n",
    "            path.append((1,1))\n",
    "        else:\n",
    "            path = select_recursive(l_split, path, split_trees_dict, probability_dict, repeat_possibility)\n",
    "\n",
    "    ######################\n",
    "    if l_split == r_split:\n",
    "        ###DangerZone\n",
    "        repeat_possibility = True\n",
    "    ######################\n",
    "    if r_split != 1:\n",
    "        if r_split == 2:\n",
    "            path.append((1,1))\n",
    "        else:\n",
    "            path = select_recursive(r_split, path, split_trees_dict, probability_dict, repeat_possibility)\n",
    "    return path"
   ]
  },
  {
   "cell_type": "code",
   "execution_count": null,
   "metadata": {
    "collapsed": false
   },
   "outputs": [],
   "source": [
    "tmp = tuple(select_recursive(n, [], split_trees_dict, probability_dict))\n",
    "assert len(tmp) == n-1"
   ]
  },
  {
   "cell_type": "code",
   "execution_count": null,
   "metadata": {
    "collapsed": false
   },
   "outputs": [],
   "source": [
    "listy = []\n",
    "for i in range(200):\n",
    "    tmp = tuple(select_recursive(n, [], split_trees_dict, probability_dict))\n",
    "    assert len(tmp) == n-1\n",
    "    listy.append(tmp)"
   ]
  },
  {
   "cell_type": "code",
   "execution_count": null,
   "metadata": {
    "collapsed": false
   },
   "outputs": [],
   "source": [
    "counter_dict = Counter(listy)\n",
    "# assert len(counter_dict.keys()) == n_trees_dict[n]\n",
    "print(counter_dict.values())"
   ]
  },
  {
   "cell_type": "code",
   "execution_count": null,
   "metadata": {
    "collapsed": false
   },
   "outputs": [],
   "source": [
    "len(counter_dict.keys()), n_trees_dict[n]"
   ]
  },
  {
   "cell_type": "code",
   "execution_count": null,
   "metadata": {
    "collapsed": false
   },
   "outputs": [],
   "source": [
    "for key, val in counter_dict.items():\n",
    "    print(key, val)"
   ]
  },
  {
   "cell_type": "code",
   "execution_count": null,
   "metadata": {
    "collapsed": false
   },
   "outputs": [],
   "source": [
    "keys = counter_dict.keys()\n",
    "for key in sorted(keys):\n",
    "    print(key, counter_dict[key])"
   ]
  },
  {
   "cell_type": "code",
   "execution_count": null,
   "metadata": {
    "collapsed": false
   },
   "outputs": [],
   "source": [
    "n_trees_dict[7]"
   ]
  },
  {
   "cell_type": "markdown",
   "metadata": {},
   "source": [
    "# Okay forget everything above here"
   ]
  },
  {
   "cell_type": "code",
   "execution_count": 3,
   "metadata": {
    "collapsed": false
   },
   "outputs": [],
   "source": [
    "def sample_tree(n, split_trees_dict, probability_dict, l_probability_dict):\n",
    "    ###Get the first split here\n",
    "    init_index = np.random.choice(len(split_trees_dict[n]), p=probability_dict[n])\n",
    "    init_choice = split_trees_dict[n][init_index]\n",
    "    starting_list = []\n",
    "    splits = select_recursive(init_choice, starting_list, split_trees_dict, probability_dict, l_probability_dict)\n",
    "    return splits\n",
    "\n",
    "\n",
    "def select_recursive(splits, path, split_trees_dict, probability_dict, l_probability_dict):\n",
    "    \"\"\"\n",
    "    This function has two returns which I don't love but c'est la vie.\n",
    "    \"\"\"\n",
    "    path.append(splits)\n",
    "    if splits == (1, 1):\n",
    "        return path\n",
    "    \n",
    "    if (splits[0] != splits[1]) or (splits[0] in [2,3]):\n",
    "        for split in splits:\n",
    "            if split != 1:\n",
    "                index = np.random.choice(len(split_trees_dict[split]), p=probability_dict[split])\n",
    "                choice = split_trees_dict[split][index]\n",
    "                path = select_recursive(choice, path, split_trees_dict, probability_dict, l_probability_dict)\n",
    "    else:\n",
    "#         print('splits yo', )\n",
    "        split = splits[0]\n",
    "        l_index = np.random.choice(len(split_trees_dict[split]), p=l_probability_dict[split])\n",
    "        l_choice = split_trees_dict[split][l_index]\n",
    "        path = select_recursive(l_choice, path, split_trees_dict, probability_dict, l_probability_dict)\n",
    "        \n",
    "        ###R split is conditional on the choice of l-split! Perhaps this monstrosity should be re-computed\n",
    "        ###but doing it separately here for now\n",
    "        naive = probability_dict[split]\n",
    "#         print(naive)\n",
    "#         print('lindex', l_index)\n",
    "        naive = naive*\\\n",
    "            np.concatenate((np.ones(l_index+1, dtype=object),\\\n",
    "                            np.zeros(len(naive)-(l_index+1), dtype=object)), axis=0)\n",
    "#         print(naive)\n",
    "        naive = list(naive)\n",
    "        totals = sum(naive)\n",
    "        adj_probs = [i/totals for i in naive]\n",
    "#         print(adj_probs)\n",
    "#         print(split_trees_dict[split])\n",
    "        \n",
    "        r_index = np.random.choice(len(split_trees_dict[split]), p=adj_probs)\n",
    "        r_choice = split_trees_dict[split][r_index]\n",
    "        path = select_recursive(r_choice, path, split_trees_dict, probability_dict, l_probability_dict)\n",
    "        \n",
    "    return path"
   ]
  },
  {
   "cell_type": "markdown",
   "metadata": {},
   "source": [
    "**Build up the necessary dictionaries**"
   ]
  },
  {
   "cell_type": "code",
   "execution_count": 60,
   "metadata": {
    "collapsed": false
   },
   "outputs": [],
   "source": [
    "n=10\n",
    "n_trees_dict = {}\n",
    "n_trees_dict[1] = 1\n",
    "\n",
    "split_trees_dict = {}\n",
    "probability_dict = {}\n",
    "for tree in range(2, n+1):\n",
    "    range_val = tree//2+1\n",
    "    tots = []\n",
    "    split_pairs = []\n",
    "    for i in range(1, range_val):\n",
    "        j = tree-i\n",
    "        split_pairs.append((j,i))\n",
    "        if i != j:\n",
    "            tots.append(n_trees_dict[i]*n_trees_dict[j])\n",
    "        else:\n",
    "            tots.append((((n_trees_dict[i]**2)-n_trees_dict[i])//2)+n_trees_dict[i])\n",
    "    total_possible = sum(tots)\n",
    "    probability_dict[tree] = [i/total_possible for i in tots]\n",
    "    n_trees_dict[tree] = total_possible\n",
    "    split_trees_dict[tree] = split_pairs\n",
    "    \n",
    "####I might be able to accomplish the same thing by just multiplying these by the probabilities above...hmm\n",
    "l_probability_dict = {}\n",
    "for tree in range(2, n+1):\n",
    "    range_val = tree//2+1\n",
    "    tots = []\n",
    "    split_pairs = []\n",
    "    for i in range(1, range_val):\n",
    "        j = tree-i\n",
    "        split_pairs.append((j,i))\n",
    "        if i != j:\n",
    "            tots.append(n_trees_dict[i]*n_trees_dict[j])\n",
    "        else:\n",
    "            tots.append((((n_trees_dict[i]**2)-n_trees_dict[i])//2)+n_trees_dict[i])\n",
    "#     tots_l = tots*np.arange(len(split_pairs), 0, -1, dtype=object)\n",
    "\n",
    "    tots_l = tots*np.arange(1, len(split_pairs)+1, 1, dtype=object)\n",
    "    tots_l = list(tots_l)\n",
    "#     print(tots_l)\n",
    "    total_possible_l = sum(tots_l)\n",
    "    l_probability_dict[tree] = [i/total_possible_l for i in tots_l]"
   ]
  },
  {
   "cell_type": "markdown",
   "metadata": {},
   "source": [
    "**Running the sampler**"
   ]
  },
  {
   "cell_type": "code",
   "execution_count": 66,
   "metadata": {
    "collapsed": false
   },
   "outputs": [],
   "source": [
    "listy = []\n",
    "for i in range(1000):\n",
    "    tmp = tuple(sample_tree(n, split_trees_dict, probability_dict, l_probability_dict))\n",
    "    assert len(tmp) == n-1\n",
    "    listy.append(tmp)"
   ]
  },
  {
   "cell_type": "code",
   "execution_count": 67,
   "metadata": {
    "collapsed": false
   },
   "outputs": [],
   "source": [
    "counter_dict = Counter(listy)"
   ]
  },
  {
   "cell_type": "code",
   "execution_count": 68,
   "metadata": {
    "collapsed": false
   },
   "outputs": [
    {
     "data": {
      "text/plain": [
       "(99, 98)"
      ]
     },
     "execution_count": 68,
     "metadata": {},
     "output_type": "execute_result"
    }
   ],
   "source": [
    "len(counter_dict.keys()), n_trees_dict[n]"
   ]
  },
  {
   "cell_type": "code",
   "execution_count": 69,
   "metadata": {
    "collapsed": false
   },
   "outputs": [
    {
     "name": "stdout",
     "output_type": "stream",
     "text": [
      "((5, 5), (4, 1), (2, 2), (1, 1), (1, 1), (4, 1), (2, 2), (1, 1), (1, 1)) 7\n",
      "((5, 5), (4, 1), (3, 1), (2, 1), (1, 1), (4, 1), (2, 2), (1, 1), (1, 1)) 12\n",
      "((5, 5), (4, 1), (2, 2), (1, 1), (1, 1), (4, 1), (3, 1), (2, 1), (1, 1)) 8\n",
      "((5, 5), (4, 1), (3, 1), (2, 1), (1, 1), (4, 1), (3, 1), (2, 1), (1, 1)) 6\n"
     ]
    }
   ],
   "source": [
    "for key, val in counter_dict.items():\n",
    "    if key[0]==(5,5) and key[1]==(4,1):\n",
    "        print(key, val)"
   ]
  },
  {
   "cell_type": "code",
   "execution_count": 52,
   "metadata": {
    "collapsed": false
   },
   "outputs": [
    {
     "data": {
      "text/plain": [
       "(3, 2)"
      ]
     },
     "execution_count": 52,
     "metadata": {},
     "output_type": "execute_result"
    }
   ],
   "source": [
    "n_trees_dict[5], n_trees_dict[4]"
   ]
  },
  {
   "cell_type": "code",
   "execution_count": 31,
   "metadata": {
    "collapsed": false
   },
   "outputs": [
    {
     "data": {
      "text/plain": [
       "Power_divergenceResult(statistic=123.22520000000003, pvalue=0.04329796676427424)"
      ]
     },
     "execution_count": 31,
     "metadata": {},
     "output_type": "execute_result"
    }
   ],
   "source": [
    "from scipy import stats\n",
    "stats.chisquare(list(counter_dict.values()))"
   ]
  },
  {
   "cell_type": "code",
   "execution_count": null,
   "metadata": {
    "collapsed": false
   },
   "outputs": [],
   "source": [
    "np.concatenate((np.zeros(1, dtype=object), np.ones(2-1, dtype=object)), axis=0)"
   ]
  },
  {
   "cell_type": "code",
   "execution_count": 10,
   "metadata": {
    "collapsed": true
   },
   "outputs": [],
   "source": []
  },
  {
   "cell_type": "code",
   "execution_count": null,
   "metadata": {
    "collapsed": true
   },
   "outputs": [],
   "source": []
  }
 ],
 "metadata": {
  "kernelspec": {
   "display_name": "Python 3",
   "language": "python",
   "name": "python3"
  },
  "language_info": {
   "codemirror_mode": {
    "name": "ipython",
    "version": 3
   },
   "file_extension": ".py",
   "mimetype": "text/x-python",
   "name": "python",
   "nbconvert_exporter": "python",
   "pygments_lexer": "ipython3",
   "version": "3.4.5"
  },
  "toc": {
   "colors": {
    "hover_highlight": "#DAA520",
    "navigate_num": "#000000",
    "navigate_text": "#333333",
    "running_highlight": "#FF0000",
    "selected_highlight": "#FFD700",
    "sidebar_border": "#EEEEEE",
    "wrapper_background": "#FFFFFF"
   },
   "moveMenuLeft": true,
   "nav_menu": {
    "height": "66px",
    "width": "252px"
   },
   "navigate_menu": true,
   "number_sections": true,
   "sideBar": true,
   "threshold": 4,
   "toc_cell": false,
   "toc_section_display": "block",
   "toc_window_display": false,
   "widenNotebook": false
  }
 },
 "nbformat": 4,
 "nbformat_minor": 2
}
