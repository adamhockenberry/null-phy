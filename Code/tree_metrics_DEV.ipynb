{
 "cells": [
  {
   "cell_type": "code",
   "execution_count": 1,
   "metadata": {
    "collapsed": false
   },
   "outputs": [],
   "source": [
    "%matplotlib inline"
   ]
  },
  {
   "cell_type": "code",
   "execution_count": 2,
   "metadata": {
    "collapsed": true
   },
   "outputs": [],
   "source": [
    "from Bio import Phylo"
   ]
  },
  {
   "cell_type": "code",
   "execution_count": 5,
   "metadata": {
    "collapsed": true
   },
   "outputs": [],
   "source": [
    "def colless_I(tree):\n",
    "    vals = []\n",
    "    for internal in tree.get_nonterminals():\n",
    "        vals.append(np.abs(len(internal.clades[0].get_terminals())-len(internal.clades[1].get_terminals())))\n",
    "    return np.sum(vals)\n",
    "\n",
    "def colless_I(tree, normalized=False):\n",
    "    \"\"\"\n",
    "    Should really figure out a recursive solution to this problem.\n",
    "    \n",
    "    Seems like only using the prior value and the value from one side could ~halve the run time\n",
    "    \n",
    "    Another normalization scheme is the expected under BD model, let\n",
    "    first_part = ((2*n_leaves) / (n_leaves-1) * (n_leaves-2))\n",
    "    \n",
    "    if n_leaves is even:\n",
    "    first_part * np.sum(1./np.arange(2,n_leaves/2))\n",
    "    if odd:\n",
    "    first_part * ((1/n_leaves) + np.sum(1./np.arange(2,(n_leaves-1)/2)))\n",
    "\n",
    "\n",
    "    \"\"\"\n",
    "    node_diff = []\n",
    "    for node in tree.traverse():\n",
    "        try:\n",
    "            a, b = node.get_children()\n",
    "        except ValueError:\n",
    "            continue\n",
    "        node_diff.append(np.abs(len(a.get_leaves())-len(b.get_leaves())))\n",
    "    index_val = np.sum(node_diff)\n",
    "    if normalized:\n",
    "        n_leaves = len(tree.get_leaves())\n",
    "        return index_val/(((n_leaves-1)*(n_leaves-2))/2.)\n",
    "    else:\n",
    "        return index_val"
   ]
  },
  {
   "cell_type": "code",
   "execution_count": 4,
   "metadata": {
    "collapsed": true
   },
   "outputs": [],
   "source": [
    "def sackins_index(tree, normalized=False):\n",
    "    \"\"\"\n",
    "\n",
    "    \"\"\"\n",
    "    listy = []\n",
    "    for leaf in tree.get_leaves():\n",
    "        listy.append(leaf.get_distance(my_tree, topology_only=True)) \n",
    "    index_val = np.sum(listy) \n",
    "    if normalized==True:\n",
    "        n_leaves = len(my_tree.get_leaves())\n",
    "        new_array = np.arange(2, n_leaves)\n",
    "        expectation = 2*n_leaves*np.sum(1/new_array)\n",
    "        return (index_val-expectation) / n_leaves\n",
    "    else:\n",
    "        return index_val"
   ]
  },
  {
   "cell_type": "code",
   "execution_count": 11,
   "metadata": {
    "collapsed": true
   },
   "outputs": [],
   "source": [
    "def cherries_number(tree):\n",
    "    \"\"\"\n",
    "    Cherries are the number of leaf pairs in the tree. So the number of internal nodes that bifurcate\n",
    "    into 2 leaves.\n",
    "    \n",
    "    Normalization is:\n",
    "    Expected value is equal to n_leaves/3\n",
    "    \n",
    "    And a metric is\n",
    "    (cherry_number - n_leaves/3) / np.sqrt((2*n_leaves) / 45) \n",
    "    \n",
    "    \"\"\"\n",
    "    return\n",
    "\n",
    "\n",
    "def gamma_stat(tree):\n",
    "    \"\"\"\n",
    "    This was adapted from the APE implementation in R (see: https://rdrr.io/cran/ape/src/R/gammaStat.R)\n",
    "    \n",
    "    and tested to make sure it gives equivalent results\n",
    "    \"\"\"\n",
    "    internals = set(tree.get_descendants()) - set(tree.get_leaves())\n",
    "    n_leaves = len(tree.get_leaves())\n",
    "    tree_dist = tree.get_leaves()[0].get_distance(tree)+tree.dist\n",
    "    branching_times = [tree.dist]+[internal.get_distance(tree) for internal in internals]+[tree_dist]\n",
    "    branching_times = sorted(branching_times)\n",
    "    diffs = np.diff(branching_times)\n",
    "    tau = np.sum(np.arange(2, n_leaves+1)*diffs)\n",
    "    denom = tau * np.sqrt(1/(12 * (n_leaves - 2)))\n",
    "    m = tau/2.\n",
    "    stat = (1/(n_leaves-2)) * np.sum(diffs[:-1]*np.arange(2, len(diffs)+1)*np.arange(len(diffs)-1, 0, -1))\n",
    "    gamma_val = (stat-m)/denom\n",
    "\n",
    "    return gamma_val"
   ]
  },
  {
   "cell_type": "code",
   "execution_count": 9,
   "metadata": {
    "collapsed": false
   },
   "outputs": [
    {
     "data": {
      "text/plain": [
       "array([1, 1, 2, 2])"
      ]
     },
     "execution_count": 9,
     "metadata": {},
     "output_type": "execute_result"
    }
   ],
   "source": [
    "import numpy as np\n",
    "np.diff(sorted([1, 2, 5, 3, 7]))"
   ]
  },
  {
   "cell_type": "code",
   "execution_count": null,
   "metadata": {
    "collapsed": true
   },
   "outputs": [],
   "source": []
  }
 ],
 "metadata": {
  "kernelspec": {
   "display_name": "Python 3",
   "language": "python",
   "name": "python3"
  },
  "language_info": {
   "codemirror_mode": {
    "name": "ipython",
    "version": 3
   },
   "file_extension": ".py",
   "mimetype": "text/x-python",
   "name": "python",
   "nbconvert_exporter": "python",
   "pygments_lexer": "ipython3",
   "version": "3.4.5"
  },
  "toc": {
   "colors": {
    "hover_highlight": "#DAA520",
    "navigate_num": "#000000",
    "navigate_text": "#333333",
    "running_highlight": "#FF0000",
    "selected_highlight": "#FFD700",
    "sidebar_border": "#EEEEEE",
    "wrapper_background": "#FFFFFF"
   },
   "moveMenuLeft": true,
   "nav_menu": {
    "height": "12px",
    "width": "252px"
   },
   "navigate_menu": true,
   "number_sections": true,
   "sideBar": true,
   "threshold": 4,
   "toc_cell": false,
   "toc_section_display": "block",
   "toc_window_display": false,
   "widenNotebook": false
  }
 },
 "nbformat": 4,
 "nbformat_minor": 2
}
